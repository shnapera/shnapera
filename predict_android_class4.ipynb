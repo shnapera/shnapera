{
  "nbformat": 4,
  "nbformat_minor": 0,
  "metadata": {
    "colab": {
      "provenance": [],
      "gpuType": "T4",
      "include_colab_link": true
    },
    "kernelspec": {
      "name": "python3",
      "display_name": "Python 3"
    },
    "language_info": {
      "name": "python"
    },
    "gpuClass": "standard",
    "accelerator": "GPU"
  },
  "cells": [
    {
      "cell_type": "markdown",
      "metadata": {
        "id": "view-in-github",
        "colab_type": "text"
      },
      "source": [
        "<a href=\"https://colab.research.google.com/github/shnapera/shnapera/blob/main/predict_android_class4.ipynb\" target=\"_parent\"><img src=\"https://colab.research.google.com/assets/colab-badge.svg\" alt=\"Open In Colab\"/></a>"
      ]
    },
    {
      "cell_type": "code",
      "execution_count": null,
      "metadata": {
        "id": "tMJU0D7aKDoB"
      },
      "outputs": [],
      "source": []
    },
    {
      "cell_type": "markdown",
      "source": [
        "**26** April 2023"
      ],
      "metadata": {
        "id": "DSvSAELXa-Uf"
      }
    },
    {
      "cell_type": "code",
      "source": [
        "# Used\n",
        "# https://www.kaggle.com/code/akhatova/sms-spam-classification-by-keras\n",
        "#       ALFIIA AKHATOVA\n",
        "# https://www.kaggle.com/code/ngawangchoeda/spam-classifier-using-lstm\n",
        "#       NGAWANG CHOEDA\n",
        "# https://www.thepythoncode.com/article/build-spam-classifier-keras-python\n",
        "#       Abdou Rockikz\n",
        "# As a starting point"
      ],
      "metadata": {
        "id": "T1gojL70LXg8"
      },
      "execution_count": null,
      "outputs": []
    },
    {
      "cell_type": "code",
      "source": [
        "import tqdm\n",
        "import numpy as np\n",
        "import pandas as pd\n",
        "import matplotlib.pyplot as plt\n",
        "import seaborn as sns\n",
        "\n",
        "import re\n",
        "import nltk\n",
        "from nltk.stem import WordNetLemmatizer\n",
        "from nltk.corpus import stopwords\n",
        "nltk.download('stopwords')\n",
        "nltk.download('wordnet')\n",
        "from bs4 import BeautifulSoup\n",
        "\n",
        "from sklearn.utils import shuffle\n",
        "from sklearn.utils.class_weight import compute_class_weight\n",
        "from sklearn.metrics import f1_score\n",
        "from sklearn.metrics import roc_curve, auc\n",
        "from sklearn.metrics import (\n",
        "    classification_report, accuracy_score, confusion_matrix)\n",
        "\n",
        "\n",
        "import keras\n",
        "import tensorflow as tf\n",
        "from keras.preprocessing.text import Tokenizer\n",
        "from keras.utils import pad_sequences\n",
        "from tensorflow.keras.callbacks import ModelCheckpoint\n"
      ],
      "metadata": {
        "id": "GlftRRMgKG1z",
        "colab": {
          "base_uri": "https://localhost:8080/"
        },
        "outputId": "f10a7ad3-033f-450c-982f-a96760d027ad"
      },
      "execution_count": null,
      "outputs": [
        {
          "output_type": "stream",
          "name": "stderr",
          "text": [
            "[nltk_data] Downloading package stopwords to /root/nltk_data...\n",
            "[nltk_data]   Unzipping corpora/stopwords.zip.\n",
            "[nltk_data] Downloading package wordnet to /root/nltk_data...\n"
          ]
        }
      ]
    },
    {
      "cell_type": "code",
      "source": [
        "def show_roc_curve(model,X,y,title):\n",
        "    \n",
        "  y_pred_keras = model.predict(X,verbose=False).ravel()\n",
        "  fpr_keras, tpr_keras, thresholds_keras = roc_curve(y, y_pred_keras)\n",
        "  auc_keras = auc(fpr_keras, tpr_keras)\n",
        "\n",
        "  plt.figure(1)\n",
        "  plt.plot([0, 1], [0, 1], 'k--')\n",
        "  plt.plot(fpr_keras, tpr_keras, label='Keras (area = {:.3f})'.format(auc_keras))\n",
        "  plt.xlabel('False positive rate')\n",
        "  plt.ylabel('True positive rate')\n",
        "  plt.title(f'ROC curve ({title})')\n",
        "  plt.legend(loc='best')\n",
        "  plt.show()"
      ],
      "metadata": {
        "id": "mYa6eWG0BLfU"
      },
      "execution_count": null,
      "outputs": []
    },
    {
      "cell_type": "code",
      "source": [
        "def print_metrics(\n",
        "    title,\n",
        "    model,\n",
        "    X_train, y_train,\n",
        "    X_validation, y_validation\n",
        "    ):\n",
        "  \n",
        "  print(title)\n",
        "\n",
        "  loss, accuracy = model.evaluate(X_train, y_train, verbose=False)\n",
        "  print(\"Training Accuracy: {:.4f}\".format(accuracy))\n",
        "  loss, accuracy = model.evaluate(X_validation, y_validation, verbose=False)\n",
        "  print(\"Validation Accuracy:  {:.4f}\".format(accuracy))\n",
        "  y_pred = (model.predict(X_validation,verbose=False) >= 0.5).astype(int)\n",
        "  print('f1_score on validation',f1_score(y_validation,y_pred))\n",
        "  print()\n",
        "  plot_history(history)\n"
      ],
      "metadata": {
        "id": "R5_c9MCcEcRz"
      },
      "execution_count": null,
      "outputs": []
    },
    {
      "cell_type": "code",
      "source": [
        "def print_cm(model,X,y):\n",
        "  ypred = model.predict(X, verbose=False)\n",
        "  ypred = ypred>0.5\n",
        "  #Get the confusion matrix\n",
        "  cf_matrix = confusion_matrix(y, ypred)\n",
        "  fig, ax = plt.subplots(figsize=(5,4))\n",
        "  sns.heatmap(\n",
        "      cf_matrix,annot = True,\n",
        "      fmt =',d',\n",
        "      cmap='viridis',\n",
        "      ax=ax)\n",
        "  plt.xlabel('Predicted label')\n",
        "  plt.ylabel('True label')\n",
        "  plt.show()"
      ],
      "metadata": {
        "id": "l-eS3NDLmgFG"
      },
      "execution_count": null,
      "outputs": []
    },
    {
      "cell_type": "code",
      "source": [],
      "metadata": {
        "id": "Qf2lntu_EfN7"
      },
      "execution_count": null,
      "outputs": []
    },
    {
      "cell_type": "code",
      "source": [
        "# Parameters\n",
        "SEQUENCE_LENGTH = 300 # the length of all sequences (number of words per sample)\n",
        "# EMBEDDING_SIZE = 300 # Using 300-Dimensional embedding vectors\n",
        "EMBEDDING_SIZE = 200  # Using 200-Dimensional embedding vectors\n",
        "VALIDATION_SIZE = 0.20 # ratio of validation set"
      ],
      "metadata": {
        "id": "910UXwIHKzCx"
      },
      "execution_count": null,
      "outputs": []
    },
    {
      "cell_type": "code",
      "source": [
        "# Input dataset - AFTER Uploading CSV to Colab file-system Directory: /content\n",
        "\n",
        "\n",
        "\n",
        "all_train_df = pd.read_csv('/content/Android_train.csv',encoding=\"ISO-8859-1\") # Train + validation set\n",
        "test_df = pd.read_csv('/content/Android_test.csv',encoding=\"ISO-8859-1\")"
      ],
      "metadata": {
        "id": "QA7cYeaiK9rL"
      },
      "execution_count": null,
      "outputs": []
    },
    {
      "cell_type": "code",
      "source": [
        "# Note test_df doesnt contain y. So we use validation set to measure models accuracy\n",
        "test_df['predicted_y'].isna().sum()"
      ],
      "metadata": {
        "colab": {
          "base_uri": "https://localhost:8080/"
        },
        "id": "J8VljmMXfM4G",
        "outputId": "c9c6bb33-e56d-4bc9-8a51-4fb6e5f13319"
      },
      "execution_count": null,
      "outputs": [
        {
          "output_type": "execute_result",
          "data": {
            "text/plain": [
              "5000"
            ]
          },
          "metadata": {},
          "execution_count": 11
        }
      ]
    },
    {
      "cell_type": "code",
      "source": [
        "all_train_df.head(1)"
      ],
      "metadata": {
        "colab": {
          "base_uri": "https://localhost:8080/",
          "height": 365
        },
        "id": "Cde2e5KQP0tU",
        "outputId": "b1e03919-3fe0-4ea9-f838-dd9d4ffbb606"
      },
      "execution_count": null,
      "outputs": [
        {
          "output_type": "execute_result",
          "data": {
            "text/plain": [
              "                       App                 Package  Category  \\\n",
              "0  Canada Post Corporation  com.canadapost.android  Business   \n",
              "\n",
              "                                         Description  Rating  \\\n",
              "0  Canada Post Mobile App gives you access to som...     3.1   \n",
              "\n",
              "   Number of ratings  Price  \\\n",
              "0                 77    0.0   \n",
              "\n",
              "                                        Related apps  \\\n",
              "0  {com.adaffix.pub.ca.android, com.kevinquan.gas...   \n",
              "\n",
              "   Dangerous permissions count  Safe permissions count  ...  \\\n",
              "0                          7.0                       1  ...   \n",
              "\n",
              "   Your personal information : read calendar events (D)  \\\n",
              "0                                                  0      \n",
              "\n",
              "   Your personal information : read contact data (D)  \\\n",
              "0                                                  1   \n",
              "\n",
              "   Your personal information : read sensitive log data (D)  \\\n",
              "0                                                  0         \n",
              "\n",
              "   Your personal information : read user defined dictionary (D)  \\\n",
              "0                                                  0              \n",
              "\n",
              "   Your personal information : retrieve system internal state (S)  \\\n",
              "0                                                  0                \n",
              "\n",
              "   Your personal information : set alarm in alarm clock (S)  \\\n",
              "0                                                  0          \n",
              "\n",
              "   Your personal information : write Browser's history and bookmarks (D)  \\\n",
              "0                                                  0                       \n",
              "\n",
              "   Your personal information : write contact data (D)  \\\n",
              "0                                                  1    \n",
              "\n",
              "   Your personal information : write to user defined dictionary (S)  Class  \n",
              "0                                                  0                     0  \n",
              "\n",
              "[1 rows x 184 columns]"
            ],
            "text/html": [
              "\n",
              "  <div id=\"df-d4c4bc57-9f3e-463c-ab6c-6c841c11c5f7\">\n",
              "    <div class=\"colab-df-container\">\n",
              "      <div>\n",
              "<style scoped>\n",
              "    .dataframe tbody tr th:only-of-type {\n",
              "        vertical-align: middle;\n",
              "    }\n",
              "\n",
              "    .dataframe tbody tr th {\n",
              "        vertical-align: top;\n",
              "    }\n",
              "\n",
              "    .dataframe thead th {\n",
              "        text-align: right;\n",
              "    }\n",
              "</style>\n",
              "<table border=\"1\" class=\"dataframe\">\n",
              "  <thead>\n",
              "    <tr style=\"text-align: right;\">\n",
              "      <th></th>\n",
              "      <th>App</th>\n",
              "      <th>Package</th>\n",
              "      <th>Category</th>\n",
              "      <th>Description</th>\n",
              "      <th>Rating</th>\n",
              "      <th>Number of ratings</th>\n",
              "      <th>Price</th>\n",
              "      <th>Related apps</th>\n",
              "      <th>Dangerous permissions count</th>\n",
              "      <th>Safe permissions count</th>\n",
              "      <th>...</th>\n",
              "      <th>Your personal information : read calendar events (D)</th>\n",
              "      <th>Your personal information : read contact data (D)</th>\n",
              "      <th>Your personal information : read sensitive log data (D)</th>\n",
              "      <th>Your personal information : read user defined dictionary (D)</th>\n",
              "      <th>Your personal information : retrieve system internal state (S)</th>\n",
              "      <th>Your personal information : set alarm in alarm clock (S)</th>\n",
              "      <th>Your personal information : write Browser's history and bookmarks (D)</th>\n",
              "      <th>Your personal information : write contact data (D)</th>\n",
              "      <th>Your personal information : write to user defined dictionary (S)</th>\n",
              "      <th>Class</th>\n",
              "    </tr>\n",
              "  </thead>\n",
              "  <tbody>\n",
              "    <tr>\n",
              "      <th>0</th>\n",
              "      <td>Canada Post Corporation</td>\n",
              "      <td>com.canadapost.android</td>\n",
              "      <td>Business</td>\n",
              "      <td>Canada Post Mobile App gives you access to som...</td>\n",
              "      <td>3.1</td>\n",
              "      <td>77</td>\n",
              "      <td>0.0</td>\n",
              "      <td>{com.adaffix.pub.ca.android, com.kevinquan.gas...</td>\n",
              "      <td>7.0</td>\n",
              "      <td>1</td>\n",
              "      <td>...</td>\n",
              "      <td>0</td>\n",
              "      <td>1</td>\n",
              "      <td>0</td>\n",
              "      <td>0</td>\n",
              "      <td>0</td>\n",
              "      <td>0</td>\n",
              "      <td>0</td>\n",
              "      <td>1</td>\n",
              "      <td>0</td>\n",
              "      <td>0</td>\n",
              "    </tr>\n",
              "  </tbody>\n",
              "</table>\n",
              "<p>1 rows × 184 columns</p>\n",
              "</div>\n",
              "      <button class=\"colab-df-convert\" onclick=\"convertToInteractive('df-d4c4bc57-9f3e-463c-ab6c-6c841c11c5f7')\"\n",
              "              title=\"Convert this dataframe to an interactive table.\"\n",
              "              style=\"display:none;\">\n",
              "        \n",
              "  <svg xmlns=\"http://www.w3.org/2000/svg\" height=\"24px\"viewBox=\"0 0 24 24\"\n",
              "       width=\"24px\">\n",
              "    <path d=\"M0 0h24v24H0V0z\" fill=\"none\"/>\n",
              "    <path d=\"M18.56 5.44l.94 2.06.94-2.06 2.06-.94-2.06-.94-.94-2.06-.94 2.06-2.06.94zm-11 1L8.5 8.5l.94-2.06 2.06-.94-2.06-.94L8.5 2.5l-.94 2.06-2.06.94zm10 10l.94 2.06.94-2.06 2.06-.94-2.06-.94-.94-2.06-.94 2.06-2.06.94z\"/><path d=\"M17.41 7.96l-1.37-1.37c-.4-.4-.92-.59-1.43-.59-.52 0-1.04.2-1.43.59L10.3 9.45l-7.72 7.72c-.78.78-.78 2.05 0 2.83L4 21.41c.39.39.9.59 1.41.59.51 0 1.02-.2 1.41-.59l7.78-7.78 2.81-2.81c.8-.78.8-2.07 0-2.86zM5.41 20L4 18.59l7.72-7.72 1.47 1.35L5.41 20z\"/>\n",
              "  </svg>\n",
              "      </button>\n",
              "      \n",
              "  <style>\n",
              "    .colab-df-container {\n",
              "      display:flex;\n",
              "      flex-wrap:wrap;\n",
              "      gap: 12px;\n",
              "    }\n",
              "\n",
              "    .colab-df-convert {\n",
              "      background-color: #E8F0FE;\n",
              "      border: none;\n",
              "      border-radius: 50%;\n",
              "      cursor: pointer;\n",
              "      display: none;\n",
              "      fill: #1967D2;\n",
              "      height: 32px;\n",
              "      padding: 0 0 0 0;\n",
              "      width: 32px;\n",
              "    }\n",
              "\n",
              "    .colab-df-convert:hover {\n",
              "      background-color: #E2EBFA;\n",
              "      box-shadow: 0px 1px 2px rgba(60, 64, 67, 0.3), 0px 1px 3px 1px rgba(60, 64, 67, 0.15);\n",
              "      fill: #174EA6;\n",
              "    }\n",
              "\n",
              "    [theme=dark] .colab-df-convert {\n",
              "      background-color: #3B4455;\n",
              "      fill: #D2E3FC;\n",
              "    }\n",
              "\n",
              "    [theme=dark] .colab-df-convert:hover {\n",
              "      background-color: #434B5C;\n",
              "      box-shadow: 0px 1px 3px 1px rgba(0, 0, 0, 0.15);\n",
              "      filter: drop-shadow(0px 1px 2px rgba(0, 0, 0, 0.3));\n",
              "      fill: #FFFFFF;\n",
              "    }\n",
              "  </style>\n",
              "\n",
              "      <script>\n",
              "        const buttonEl =\n",
              "          document.querySelector('#df-d4c4bc57-9f3e-463c-ab6c-6c841c11c5f7 button.colab-df-convert');\n",
              "        buttonEl.style.display =\n",
              "          google.colab.kernel.accessAllowed ? 'block' : 'none';\n",
              "\n",
              "        async function convertToInteractive(key) {\n",
              "          const element = document.querySelector('#df-d4c4bc57-9f3e-463c-ab6c-6c841c11c5f7');\n",
              "          const dataTable =\n",
              "            await google.colab.kernel.invokeFunction('convertToInteractive',\n",
              "                                                     [key], {});\n",
              "          if (!dataTable) return;\n",
              "\n",
              "          const docLinkHtml = 'Like what you see? Visit the ' +\n",
              "            '<a target=\"_blank\" href=https://colab.research.google.com/notebooks/data_table.ipynb>data table notebook</a>'\n",
              "            + ' to learn more about interactive tables.';\n",
              "          element.innerHTML = '';\n",
              "          dataTable['output_type'] = 'display_data';\n",
              "          await google.colab.output.renderOutput(dataTable, element);\n",
              "          const docLink = document.createElement('div');\n",
              "          docLink.innerHTML = docLinkHtml;\n",
              "          element.appendChild(docLink);\n",
              "        }\n",
              "      </script>\n",
              "    </div>\n",
              "  </div>\n",
              "  "
            ]
          },
          "metadata": {},
          "execution_count": 12
        }
      ]
    },
    {
      "cell_type": "code",
      "source": [],
      "metadata": {
        "id": "vJZoETaXpbJ8"
      },
      "execution_count": null,
      "outputs": []
    },
    {
      "cell_type": "code",
      "source": [
        "print(all_train_df.Package.apply(lambda s: s.split('.')[0]).value_counts())"
      ],
      "metadata": {
        "id": "n3jXU98YrQQe",
        "colab": {
          "base_uri": "https://localhost:8080/"
        },
        "outputId": "ea57025e-e60a-4178-f74d-f3c436b2fbd8"
      },
      "execution_count": null,
      "outputs": [
        {
          "output_type": "stream",
          "name": "stdout",
          "text": [
            "com       18274\n",
            "net         614\n",
            "jp          557\n",
            "org         529\n",
            "air         320\n",
            "          ...  \n",
            "fxware        1\n",
            "pec           1\n",
            "sz            1\n",
            "S             1\n",
            "toaset        1\n",
            "Name: Package, Length: 1294, dtype: int64\n"
          ]
        }
      ]
    },
    {
      "cell_type": "code",
      "source": [
        "# Feature engineering\n",
        "\n",
        "# NOTE: Strictly speaking - When doing an embedding of text - \n",
        "#           Catigorical fields are concatenated to the RESULT of the embedding - not to the raw text. \n",
        "#   However - In our case it is also possible to improve F1 by concatenating them to raw text\n",
        "\n",
        "all_train_df['Description'] = all_train_df['Description'].fillna('').astype(str)\n",
        "test_df['Description'] = test_df['Description'].fillna('').astype(str)\n",
        "\n",
        "#print(all_train_df.Package.apply(lambda s: s.split('.')[0]).value_counts())\n",
        "all_train_df['Package_main'] = all_train_df.Package.apply(lambda s: s.split('.')[0])\n",
        "test_df['Package_main'] = test_df.Package.apply(lambda s: s.split('.')[0])\n",
        "\n",
        "# # dgc = Dangerous permissions count\n",
        "# low_dgc = all_train_df['Dangerous permissions count'].quantile(q=0.2)\n",
        "# high_dgc = all_train_df['Dangerous permissions count'].quantile(q=0.8)\n",
        "# print('low_dgc,high_dgc:',low_dgc,high_dgc)\n",
        "\n",
        "# all_train_df['dgc'] = np.where(all_train_df['Dangerous permissions count'] < low_dgc, 'dgclow','dgcmedium')\n",
        "# all_train_df['dgc'] = np.where(all_train_df['Dangerous permissions count'] > high_dgc, 'dgchigh',all_train_df['dgc'])\n",
        "\n",
        "# test_df['dgc'] = np.where(test_df['Dangerous permissions count'] < low_dgc, 'dgclow','dgcmedium')\n",
        "# test_df['dgc'] = np.where(test_df['Dangerous permissions count'] > high_dgc, 'dgchigh',test_df['dgc'])\n",
        "# all_train_df['dgc'].value_counts()\n",
        "\n",
        "all_train_df['text'] = all_train_df.apply(\n",
        "    #lambda row: row['Package_main'] + ' ' + row['dgc'] + ' ' +row['Category'] + ' ' + row['Description']\n",
        "    lambda row: row['Package_main'] + ' ' + row['Category'] + ' ' + row['App'] + ' ' + row['Description']\n",
        "    , axis=1)\n",
        "\n",
        "test_df['text'] = test_df.apply(\n",
        "     lambda row: row['Package_main'] + ' ' + row['Category'] + ' ' + row['App'] + ' ' + row['Description']\n",
        "    , axis=1)"
      ],
      "metadata": {
        "id": "0Dt4XSK1qGxr"
      },
      "execution_count": null,
      "outputs": []
    },
    {
      "cell_type": "code",
      "source": [
        "tst_text = all_train_df.iloc[0]['text']\n",
        "tst_text"
      ],
      "metadata": {
        "id": "fa5cze0wsIpO",
        "colab": {
          "base_uri": "https://localhost:8080/",
          "height": 192
        },
        "outputId": "2a43f04b-54ec-4bd0-8bf2-e42ce2a44b82"
      },
      "execution_count": null,
      "outputs": [
        {
          "output_type": "execute_result",
          "data": {
            "text/plain": [
              "'com Business Canada Post Corporation Canada Post Mobile App gives you access to some of the the most popular tools on <a href=\"http://www.google.com/url?q=http://canadapost.ca&usg=AFQjCNGLsUtAzxPlFZBfYYGjv6mnRiMZJw\" target=\"_blank\">canadapost.ca</a>.  You can now Find a Postal Code, create your own personalized stamps and postcards with Picture Postage, Track a Package and Find a Post Office anywhere in Canada.<p>Now introducing Picture Postage Postcard!<p>Turn your photos into printed postcards???with delivery anywhere in the world for just $2.45 per card! Take a photo or select one from your camera roll, choose the recipient(s) from your contacts list and write your personal message. We???ll print, stamp and mail the postcard to each person on your list!<p>Use Picture Postage to create a personalized stamp for your letters and invitations.  Get started by taking a picture with your device, or access any photos that you have stored on your camera roll!<p>Use Find a Postal code for any address in Canada.<p>Use Track a Package to track and check the status of your items.  You can give the item a name and save it in the app (e.g., Mom???s package), so you can easily keep track of it until it is delivered.<p>Use Find a Post Office to locate the nearest Canada Post retail outlets, based on your GPS coordinates or an address that you enter.'"
            ],
            "application/vnd.google.colaboratory.intrinsic+json": {
              "type": "string"
            }
          },
          "metadata": {},
          "execution_count": 15
        }
      ]
    },
    {
      "cell_type": "code",
      "source": [
        "stop_words = set(stopwords.words(\"english\")) \n",
        "lemmatizer = WordNetLemmatizer()\n",
        "\n",
        "def clean_text(text):\n",
        "    \n",
        "\n",
        "    soup = BeautifulSoup(text, \"html.parser\") #Remove html tags\n",
        "    text = soup.get_text()    \n",
        "\n",
        "    text = re.sub(r'[,()!]',' ',text, re.UNICODE)\n",
        "    text = re.sub(r'[\\?\\.]','',text, re.UNICODE)    \n",
        "    text = re.sub(r'[^\\w\\s]','',text, re.UNICODE)\n",
        "    text = re.sub(r'\\d+','',text, re.UNICODE) # Remove numbers\n",
        "\n",
        "    text = text.lower()\n",
        "    text = [lemmatizer.lemmatize(token) for token in text.split(\" \")]\n",
        "    text = [lemmatizer.lemmatize(token, \"v\") for token in text]\n",
        "    text = [word for word in text if not word in stop_words]\n",
        "    text = \" \".join(text)\n",
        "    return text"
      ],
      "metadata": {
        "id": "gA5_PPIJKmoV"
      },
      "execution_count": null,
      "outputs": []
    },
    {
      "cell_type": "code",
      "source": [
        "clean_text(tst_text)"
      ],
      "metadata": {
        "colab": {
          "base_uri": "https://localhost:8080/",
          "height": 157
        },
        "id": "4GE40RLoKmwS",
        "outputId": "9b0cecbf-17ae-450c-91ad-f036b749572d"
      },
      "execution_count": null,
      "outputs": [
        {
          "output_type": "execute_result",
          "data": {
            "text/plain": [
              "'com business canada post corporation canada post mobile app give access popular tool canadapostca  find postal code  create personalize stamp postcard picture postage  track package find post office anywhere canadanow introduce picture postage postcard turn photo print postcardswith delivery anywhere world  per card  take photo select one camera roll  choose recipient  contact list write personal message well print  stamp mail postcard person list use picture postage create personalize stamp letter invitation  get start take picture device  access photo store camera roll use find postal code address canadause track package track check status item  give item name save app  eg  mom package   easily keep track delivereduse find post office locate nearest canada post retail outlet  base gps coordinate address enter'"
            ],
            "application/vnd.google.colaboratory.intrinsic+json": {
              "type": "string"
            }
          },
          "metadata": {},
          "execution_count": 17
        }
      ]
    },
    {
      "cell_type": "code",
      "source": [],
      "metadata": {
        "id": "gATNx1TpKzW1"
      },
      "execution_count": null,
      "outputs": []
    },
    {
      "cell_type": "code",
      "source": [
        "all_train_df['text'] = all_train_df.text.apply(lambda x: clean_text(x))\n",
        "test_df['text'] = test_df.text.apply(lambda x: clean_text(x))"
      ],
      "metadata": {
        "id": "M8og7sRg1jL-",
        "colab": {
          "base_uri": "https://localhost:8080/"
        },
        "outputId": "d468f0f8-5ff3-4308-dd22-a527b0828b6f"
      },
      "execution_count": null,
      "outputs": [
        {
          "output_type": "stream",
          "name": "stderr",
          "text": [
            "<ipython-input-16-fcff709d48fa>:7: MarkupResemblesLocatorWarning: The input looks more like a filename than markup. You may want to open this file and pass the filehandle into Beautiful Soup.\n",
            "  soup = BeautifulSoup(text, \"html.parser\") #Remove html tags\n"
          ]
        }
      ]
    },
    {
      "cell_type": "code",
      "source": [
        "#  train-validation split\n",
        "\n",
        " # Shuffle before train-validation split\n",
        "all_train_df = shuffle(all_train_df,random_state=17).reset_index(drop=True)\n",
        "\n",
        "train_set_size = int(len(all_train_df) * (1-VALIDATION_SIZE))\n",
        "train_df = all_train_df[:train_set_size]\n",
        "validation_df = all_train_df[train_set_size:]\n",
        "\n",
        "print('all_train_df.shape',all_train_df.shape)\n",
        "print('train_df.shape',train_df.shape)\n",
        "print('validation_df.shape',validation_df.shape)\n",
        "print('test_df.shape',test_df.shape)\n",
        "\n",
        "# all_train_df.shape (25000, 184)\n",
        "# train_df.shape (20000, 184)\n",
        "# validation_df.shape (5000, 184)\n",
        "# test_df.shape (5000, 184)"
      ],
      "metadata": {
        "colab": {
          "base_uri": "https://localhost:8080/"
        },
        "id": "njaK5Ma6qACq",
        "outputId": "336d33c9-c88f-4ccc-895a-eb1d80560bbd"
      },
      "execution_count": null,
      "outputs": [
        {
          "output_type": "stream",
          "name": "stdout",
          "text": [
            "all_train_df.shape (25000, 186)\n",
            "train_df.shape (20000, 186)\n",
            "validation_df.shape (5000, 186)\n",
            "test_df.shape (5000, 186)\n"
          ]
        }
      ]
    },
    {
      "cell_type": "code",
      "source": [],
      "metadata": {
        "id": "lfhmMWM7YDgz"
      },
      "execution_count": null,
      "outputs": []
    },
    {
      "cell_type": "code",
      "source": [
        " # Clean dataset by removing punctuations, lowercase all characters, etc. \n",
        " # Keras has a built-in class Tokenizer from the tensorflow.keras.preprocessing.text module, that does all that in few lines of code\n",
        "\n",
        "# Text tokenization\n",
        "# vectorizing text, turning each text into sequence of integers\n",
        "#tokenizer = Tokenizer(num_words=5000)\n",
        "#tokenizer = Tokenizer() # 26.4.2023\n",
        "\n",
        "NUM_WORDS = 30000\n",
        "tokenizer = Tokenizer(num_words=NUM_WORDS)\n",
        "tokenizer.fit_on_texts(train_df['text'])\n",
        "\n",
        "# The word_index contains all the words, no matter you set num_words or not.\n",
        "vocab_size = len(tokenizer.word_index) + 1  # Adding 1 because of reserved 0 index\n",
        "print('vocab_size:',vocab_size)\n",
        "# vocab_size : 134,567 Without numbers: 129,147\n",
        "vocab_size = min(NUM_WORDS+1,vocab_size) # Needed for models embedding layer input shape\n",
        "\n",
        "# convert to sequence of integers\n",
        "X_train = tokenizer.texts_to_sequences(train_df['text'])\n",
        "X_validation = tokenizer.texts_to_sequences(validation_df['text'])\n",
        "X_test = tokenizer.texts_to_sequences(test_df['text'])\n",
        "\n",
        "y_train = train_df['Class'].values\n",
        "y_validation = validation_df['Class'].values\n",
        "\n",
        "\n",
        "\n",
        "# Tokenizer returns sequence of integers, each integer corresponds to a word in the vocabulary.\n",
        "# The samples don't have the same length, The NN needs a fixed-length sequence.\n",
        "# Use pad_sequences() function from the tensorflow.keras.preprocessing.sequence module to pad sequences at the end of each sequence with zeros\n",
        "\n",
        "# convert to numpy arrays\n",
        "X_train = np.array(X_train)\n",
        "X_train = pad_sequences(X_train, maxlen=SEQUENCE_LENGTH, padding='post')\n",
        "X_validation = np.array(X_validation)\n",
        "X_validation = pad_sequences(X_validation, maxlen=SEQUENCE_LENGTH, padding='post')\n",
        "X_test = np.array(X_test)\n",
        "X_test = pad_sequences(X_test, maxlen=SEQUENCE_LENGTH, padding='post') # Used to create predicted_y"
      ],
      "metadata": {
        "id": "zrqT6XQeRNrc",
        "colab": {
          "base_uri": "https://localhost:8080/"
        },
        "outputId": "6fdf3958-b207-4942-aa1e-67c7e6d98c23"
      },
      "execution_count": null,
      "outputs": [
        {
          "output_type": "stream",
          "name": "stdout",
          "text": [
            "vocab_size: 133161\n"
          ]
        },
        {
          "output_type": "stream",
          "name": "stderr",
          "text": [
            "<ipython-input-20-ebcfc6223236>:34: VisibleDeprecationWarning: Creating an ndarray from ragged nested sequences (which is a list-or-tuple of lists-or-tuples-or ndarrays with different lengths or shapes) is deprecated. If you meant to do this, you must specify 'dtype=object' when creating the ndarray.\n",
            "  X_train = np.array(X_train)\n",
            "<ipython-input-20-ebcfc6223236>:36: VisibleDeprecationWarning: Creating an ndarray from ragged nested sequences (which is a list-or-tuple of lists-or-tuples-or ndarrays with different lengths or shapes) is deprecated. If you meant to do this, you must specify 'dtype=object' when creating the ndarray.\n",
            "  X_validation = np.array(X_validation)\n",
            "<ipython-input-20-ebcfc6223236>:38: VisibleDeprecationWarning: Creating an ndarray from ragged nested sequences (which is a list-or-tuple of lists-or-tuples-or ndarrays with different lengths or shapes) is deprecated. If you meant to do this, you must specify 'dtype=object' when creating the ndarray.\n",
            "  X_test = np.array(X_test)\n"
          ]
        }
      ]
    },
    {
      "cell_type": "code",
      "source": [],
      "metadata": {
        "id": "UDzozLK6ePvA"
      },
      "execution_count": null,
      "outputs": []
    },
    {
      "cell_type": "code",
      "source": [
        "train_df.iloc[0].text"
      ],
      "metadata": {
        "colab": {
          "base_uri": "https://localhost:8080/",
          "height": 192
        },
        "id": "PQom2-Ewf9Dh",
        "outputId": "51c6dfc9-3c2a-473b-8e3e-e971a891e580"
      },
      "execution_count": null,
      "outputs": [
        {
          "output_type": "execute_result",
          "data": {
            "text/plain": [
              "'com medium  video audiomanager pro fully feature version popular audiomanager widget volume managerfeatured best android apps book oreilly best audio management app androidaudiomanager applicationwidget allow get current volume level straight homescreen tap widget adjust volume level independently save audio set presets use builtin scheduler automatically apply youfeatures  widget skin available android market two widget size available  large x small x  save audio profile  presets  rename  edit delete profile  presets  create profile shortcut builtin scheduler automatically apply presets whenever want restore ringer mode feature fully optimize android tablet available  different language create publish skin skin development kit audiomanager plugin available locale tasker user auto backup restore lose set profile  support device  manual backup restore profile also availablewe appreciate feedback encourage help u improve product visit website httpwww.smartandroidapps.com forget check apps market.smart android apps  llc'"
            ],
            "application/vnd.google.colaboratory.intrinsic+json": {
              "type": "string"
            }
          },
          "metadata": {},
          "execution_count": 21
        }
      ]
    },
    {
      "cell_type": "code",
      "source": [
        "X_train[0]"
      ],
      "metadata": {
        "colab": {
          "base_uri": "https://localhost:8080/"
        },
        "id": "uM2JQw5SgN-f",
        "outputId": "767b8247-bee6-4c37-cda1-18418c23ffc3"
      },
      "execution_count": null,
      "outputs": [
        {
          "output_type": "execute_result",
          "data": {
            "text/plain": [
              "array([    3,   253,    36, 13501,   116,   608,    12,    24,   325,\n",
              "       13501,    75,   678,    28,     4,    53,    45,  8717,    28,\n",
              "         167,   666,     1,   129,     9,   287,   678,    73,  1440,\n",
              "        2215,   126,    75,  1343,   678,    73,  4050,    61,   167,\n",
              "          29,  3288,     5,  1637,  6454,   304,   595, 12520,    75,\n",
              "        1397,    52,     4,    91,   218,    75,   292,    52,   934,\n",
              "         171,   605,   171,    61,   167,   833,  3288,  2900,   629,\n",
              "         712,   833,  3288,   119,   833,  1113,  1637,  6454,   304,\n",
              "         595,  3288,  1554,    58,  1106,  1952,    74,    12,   608,\n",
              "         809,     4,   254,    52,    87,   102,   119,  1281,  1397,\n",
              "        1397,   774,  2901, 13501,  1609,    52,  3475,  4895,    66,\n",
              "         456,   632,  1106,   497,    29,   833,    21,    41,  1157,\n",
              "         632,  1106,   833,    33, 17658,  1572,   327,  2072,    34,\n",
              "          30,   290,   392,   262,   341,     3,   885,    90,    53,\n",
              "          91,   468,     4,    53,  4971,     0,     0,     0,     0,\n",
              "           0,     0,     0,     0,     0,     0,     0,     0,     0,\n",
              "           0,     0,     0,     0,     0,     0,     0,     0,     0,\n",
              "           0,     0,     0,     0,     0,     0,     0,     0,     0,\n",
              "           0,     0,     0,     0,     0,     0,     0,     0,     0,\n",
              "           0,     0,     0,     0,     0,     0,     0,     0,     0,\n",
              "           0,     0,     0,     0,     0,     0,     0,     0,     0,\n",
              "           0,     0,     0,     0,     0,     0,     0,     0,     0,\n",
              "           0,     0,     0,     0,     0,     0,     0,     0,     0,\n",
              "           0,     0,     0,     0,     0,     0,     0,     0,     0,\n",
              "           0,     0,     0,     0,     0,     0,     0,     0,     0,\n",
              "           0,     0,     0,     0,     0,     0,     0,     0,     0,\n",
              "           0,     0,     0,     0,     0,     0,     0,     0,     0,\n",
              "           0,     0,     0,     0,     0,     0,     0,     0,     0,\n",
              "           0,     0,     0,     0,     0,     0,     0,     0,     0,\n",
              "           0,     0,     0,     0,     0,     0,     0,     0,     0,\n",
              "           0,     0,     0,     0,     0,     0,     0,     0,     0,\n",
              "           0,     0,     0,     0,     0,     0,     0,     0,     0,\n",
              "           0,     0,     0,     0,     0,     0,     0,     0,     0,\n",
              "           0,     0,     0], dtype=int32)"
            ]
          },
          "metadata": {},
          "execution_count": 22
        }
      ]
    },
    {
      "cell_type": "code",
      "source": [],
      "metadata": {
        "id": "A2iZcqzyf9OO"
      },
      "execution_count": null,
      "outputs": []
    },
    {
      "cell_type": "code",
      "source": [
        "#train_df.columns\n",
        "#test_df.columns\n",
        "print('Class is our target, Check if imbalanced\\n')\n",
        "print('train_df:',train_df['Class'].value_counts(),sep='\\n')\n",
        "print()\n",
        "print('validation_df:',validation_df['Class'].value_counts(),sep='\\n')\n",
        "\n",
        "# Class is our target, Check if imbalanced\n",
        "\n",
        "# train_df:\n",
        "# 1    13354\n",
        "# 0     6646\n",
        "# Name: Class, dtype: int64\n",
        "\n",
        "# validation_df:\n",
        "# 1    3339\n",
        "# 0    1661\n",
        "# Name: Class, dtype: int64"
      ],
      "metadata": {
        "colab": {
          "base_uri": "https://localhost:8080/"
        },
        "id": "lU9CTGQPQCTS",
        "outputId": "27d72412-1c91-4953-85df-7cca9b70ac1f"
      },
      "execution_count": null,
      "outputs": [
        {
          "output_type": "stream",
          "name": "stdout",
          "text": [
            "Class is our target, Check if imbalanced\n",
            "\n",
            "train_df:\n",
            "1    13354\n",
            "0     6646\n",
            "Name: Class, dtype: int64\n",
            "\n",
            "validation_df:\n",
            "1    3339\n",
            "0    1661\n",
            "Name: Class, dtype: int64\n"
          ]
        }
      ]
    },
    {
      "cell_type": "code",
      "source": [
        "# Compute class weights\n",
        "class_weights = compute_class_weight(y=y_train,class_weight='balanced',classes=np.unique(y_train))\n",
        "class_weights = dict(zip(np.unique(y_train), class_weights))\n",
        "class_weights"
      ],
      "metadata": {
        "colab": {
          "base_uri": "https://localhost:8080/"
        },
        "id": "vNhKquH70V1F",
        "outputId": "2e1a4553-2ec7-46da-fe49-d9c1b3db155d"
      },
      "execution_count": null,
      "outputs": [
        {
          "output_type": "execute_result",
          "data": {
            "text/plain": [
              "{0: 1.5046644598254588, 1: 0.7488392990864161}"
            ]
          },
          "metadata": {},
          "execution_count": 25
        }
      ]
    },
    {
      "cell_type": "code",
      "source": [],
      "metadata": {
        "id": "LJ4fL7V8XMbj"
      },
      "execution_count": null,
      "outputs": []
    },
    {
      "cell_type": "code",
      "source": [
        "def plot_history(history):\n",
        "    acc = history.history['accuracy']\n",
        "    val_acc = history.history['val_accuracy']\n",
        "    loss = history.history['loss']\n",
        "    val_loss = history.history['val_loss']\n",
        "    x = range(1, len(acc) + 1)\n",
        "\n",
        "    plt.figure(figsize=(12, 5))\n",
        "    plt.subplot(1, 2, 1)\n",
        "    plt.plot(x, acc, 'b', label='Training acc')\n",
        "    plt.plot(x, val_acc, 'r', label='Validation acc')\n",
        "    plt.title('Training and validation accuracy')\n",
        "    plt.legend()\n",
        "    plt.subplot(1, 2, 2)\n",
        "    plt.plot(x, loss, 'b', label='Training loss')\n",
        "    plt.plot(x, val_loss, 'r', label='Validation loss')\n",
        "    plt.title('Training and validation loss')\n",
        "    plt.legend()"
      ],
      "metadata": {
        "id": "nfvZPLvJYiua"
      },
      "execution_count": null,
      "outputs": []
    },
    {
      "cell_type": "markdown",
      "source": [
        "Build the model\n",
        "The 1st model only contains a dense layer\n",
        "The layers are stacked sequentially to build the classifier:\n",
        "\n",
        "The first layer is an Embedding layer. This layer takes the integer-encoded vocabulary and looks up the embedding vector for each word-index. These vectors are learned as the model trains. The vectors add a dimension to the output array. The resulting dimensions are: (batch, sequence, embedding).\n",
        "Next, a GlobalAveragePooling1D layer returns a fixed-length output vector for each example by averaging over the sequence dimension. This allows the model to handle input of variable length, in the simplest way possible.\n",
        "This fixed-length output vector is piped through a fully-connected (Dense) layer with 16 hidden units.\n",
        "The last layer is densely connected with a single output node. Using the sigmoid activation function, this value is a float between 0 and 1, representing a probability, or confidence level."
      ],
      "metadata": {
        "id": "DmEDbx_JXVnL"
      }
    },
    {
      "cell_type": "code",
      "source": [
        "model = keras.Sequential()\n",
        "model.add(keras.layers.Embedding(vocab_size, EMBEDDING_SIZE))\n",
        "model.add(keras.layers.GlobalMaxPool1D())\n",
        "model.add(keras.layers.Dense(64, activation=tf.nn.relu))\n",
        "model.add(keras.layers.Dropout(0.2))\n",
        "model.add(keras.layers.Dense(16, activation=tf.nn.relu))\n",
        "model.add(keras.layers.Dense(1, activation=tf.nn.sigmoid))\n",
        "\n",
        "LEARNING_RATE = 0.0001\n",
        "\n",
        "model.compile(optimizer=tf.keras.optimizers.Adam(learning_rate=LEARNING_RATE),\n",
        "              loss='binary_crossentropy',\n",
        "              metrics=['accuracy'])\n",
        "model.summary()"
      ],
      "metadata": {
        "colab": {
          "base_uri": "https://localhost:8080/"
        },
        "id": "kZwCcSi1YaM7",
        "outputId": "818661c7-5e82-44d3-c3a4-bce56c4c512a"
      },
      "execution_count": null,
      "outputs": [
        {
          "output_type": "stream",
          "name": "stdout",
          "text": [
            "Model: \"sequential\"\n",
            "_________________________________________________________________\n",
            " Layer (type)                Output Shape              Param #   \n",
            "=================================================================\n",
            " embedding (Embedding)       (None, None, 200)         6000200   \n",
            "                                                                 \n",
            " global_max_pooling1d (Globa  (None, 200)              0         \n",
            " lMaxPooling1D)                                                  \n",
            "                                                                 \n",
            " dense (Dense)               (None, 64)                12864     \n",
            "                                                                 \n",
            " dropout (Dropout)           (None, 64)                0         \n",
            "                                                                 \n",
            " dense_1 (Dense)             (None, 16)                1040      \n",
            "                                                                 \n",
            " dense_2 (Dense)             (None, 1)                 17        \n",
            "                                                                 \n",
            "=================================================================\n",
            "Total params: 6,014,121\n",
            "Trainable params: 6,014,121\n",
            "Non-trainable params: 0\n",
            "_________________________________________________________________\n"
          ]
        }
      ]
    },
    {
      "cell_type": "code",
      "source": [
        "model.get_compile_config()"
      ],
      "metadata": {
        "colab": {
          "base_uri": "https://localhost:8080/"
        },
        "id": "GC2nvN9eiEs0",
        "outputId": "a360e407-6e62-4505-da4e-6cb0511d8be9"
      },
      "execution_count": null,
      "outputs": [
        {
          "output_type": "execute_result",
          "data": {
            "text/plain": [
              "{'optimizer': {'module': 'keras.optimizers',\n",
              "  'class_name': 'Adam',\n",
              "  'config': {'name': 'Adam',\n",
              "   'weight_decay': None,\n",
              "   'clipnorm': None,\n",
              "   'global_clipnorm': None,\n",
              "   'clipvalue': None,\n",
              "   'use_ema': False,\n",
              "   'ema_momentum': 0.99,\n",
              "   'ema_overwrite_frequency': None,\n",
              "   'jit_compile': True,\n",
              "   'is_legacy_optimizer': False,\n",
              "   'learning_rate': 9.999999747378752e-05,\n",
              "   'beta_1': 0.9,\n",
              "   'beta_2': 0.999,\n",
              "   'epsilon': 1e-07,\n",
              "   'amsgrad': False},\n",
              "  'registered_name': None},\n",
              " 'loss': 'binary_crossentropy',\n",
              " 'metrics': ['accuracy'],\n",
              " 'loss_weights': None,\n",
              " 'weighted_metrics': None,\n",
              " 'run_eagerly': None,\n",
              " 'steps_per_execution': None,\n",
              " 'jit_compile': None}"
            ]
          },
          "metadata": {},
          "execution_count": 28
        }
      ]
    },
    {
      "cell_type": "code",
      "source": [
        "'''\n",
        "Model: \"sequential_4\"\n",
        "_________________________________________________________________\n",
        " Layer (type)                Output Shape              Param #   \n",
        "=================================================================\n",
        " embedding_4 (Embedding)     (None, None, 200)         6000200   \n",
        "                                                                 \n",
        " global_max_pooling1d_3 (Glo  (None, 200)              0         \n",
        " balMaxPooling1D)                                                \n",
        "                                                                 \n",
        " dense_11 (Dense)            (None, 64)                12864     \n",
        "                                                                 \n",
        " dropout_5 (Dropout)         (None, 64)                0         \n",
        "                                                                 \n",
        " dense_12 (Dense)            (None, 16)                1040      \n",
        "                                                                 \n",
        " dense_13 (Dense)            (None, 1)                 17        \n",
        "                                                                 \n",
        "=================================================================\n",
        "Total params: 6,014,121\n",
        "Trainable params: 6,014,121\n",
        "Non-trainable params: 0\n",
        "_________________________________________________________________\n",
        "''';"
      ],
      "metadata": {
        "id": "qeHh8ARHY2GL"
      },
      "execution_count": null,
      "outputs": []
    },
    {
      "cell_type": "code",
      "source": [],
      "metadata": {
        "id": "PhpPfQcJ3R8S"
      },
      "execution_count": null,
      "outputs": []
    },
    {
      "cell_type": "code",
      "source": [
        "BATCH_SIZE = 64\n",
        "EPOCHS = 25 # number of epochs\n",
        "\n",
        "mcp_save = ModelCheckpoint(\n",
        "    'dense_best', save_best_only=True, monitor='val_accuracy', mode='max',\n",
        "    #verbose=1\n",
        "    )\n",
        "\n",
        "history = model.fit(X_train, y_train,\n",
        "                    epochs=EPOCHS,\n",
        "                    verbose=True,\n",
        "                    validation_data=(X_validation, y_validation),\n",
        "                    batch_size=BATCH_SIZE,\n",
        "                    callbacks=[mcp_save],\n",
        "                    class_weight=class_weights\n",
        "                    )"
      ],
      "metadata": {
        "colab": {
          "base_uri": "https://localhost:8080/"
        },
        "id": "OdZfikbGY5v6",
        "outputId": "149651b7-18f7-4d3e-ab66-e5b6ab3bf13e"
      },
      "execution_count": null,
      "outputs": [
        {
          "output_type": "stream",
          "name": "stdout",
          "text": [
            "Epoch 1/25\n",
            "313/313 [==============================] - 80s 234ms/step - loss: 0.6878 - accuracy: 0.6482 - val_loss: 0.6690 - val_accuracy: 0.7544\n",
            "Epoch 2/25\n",
            "313/313 [==============================] - 47s 152ms/step - loss: 0.6467 - accuracy: 0.7578 - val_loss: 0.5977 - val_accuracy: 0.7742\n",
            "Epoch 3/25\n",
            "313/313 [==============================] - 33s 106ms/step - loss: 0.5385 - accuracy: 0.7878 - val_loss: 0.4953 - val_accuracy: 0.7818\n",
            "Epoch 4/25\n",
            "313/313 [==============================] - 26s 84ms/step - loss: 0.4370 - accuracy: 0.8133 - val_loss: 0.4262 - val_accuracy: 0.8106\n",
            "Epoch 5/25\n",
            "313/313 [==============================] - 20s 65ms/step - loss: 0.3743 - accuracy: 0.8378 - val_loss: 0.4012 - val_accuracy: 0.8156\n",
            "Epoch 6/25\n",
            "313/313 [==============================] - 20s 63ms/step - loss: 0.3318 - accuracy: 0.8559 - val_loss: 0.3877 - val_accuracy: 0.8228\n",
            "Epoch 7/25\n",
            "313/313 [==============================] - 14s 46ms/step - loss: 0.2995 - accuracy: 0.8705 - val_loss: 0.3857 - val_accuracy: 0.8234\n",
            "Epoch 8/25\n",
            "313/313 [==============================] - 11s 34ms/step - loss: 0.2706 - accuracy: 0.8820 - val_loss: 0.3854 - val_accuracy: 0.8254\n",
            "Epoch 9/25\n",
            "313/313 [==============================] - 12s 39ms/step - loss: 0.2469 - accuracy: 0.8937 - val_loss: 0.3922 - val_accuracy: 0.8232\n",
            "Epoch 10/25\n",
            "313/313 [==============================] - 10s 33ms/step - loss: 0.2270 - accuracy: 0.9021 - val_loss: 0.4094 - val_accuracy: 0.8136\n",
            "Epoch 11/25\n",
            "313/313 [==============================] - 7s 22ms/step - loss: 0.2112 - accuracy: 0.9079 - val_loss: 0.4137 - val_accuracy: 0.8158\n",
            "Epoch 12/25\n",
            "313/313 [==============================] - 9s 28ms/step - loss: 0.1970 - accuracy: 0.9126 - val_loss: 0.4228 - val_accuracy: 0.8140\n",
            "Epoch 13/25\n",
            "313/313 [==============================] - 8s 26ms/step - loss: 0.1863 - accuracy: 0.9168 - val_loss: 0.4376 - val_accuracy: 0.8116\n",
            "Epoch 14/25\n",
            "313/313 [==============================] - 6s 19ms/step - loss: 0.1761 - accuracy: 0.9195 - val_loss: 0.4571 - val_accuracy: 0.8080\n",
            "Epoch 15/25\n",
            "313/313 [==============================] - 7s 23ms/step - loss: 0.1652 - accuracy: 0.9230 - val_loss: 0.4682 - val_accuracy: 0.8064\n",
            "Epoch 16/25\n",
            "313/313 [==============================] - 6s 19ms/step - loss: 0.1593 - accuracy: 0.9222 - val_loss: 0.4788 - val_accuracy: 0.8046\n",
            "Epoch 17/25\n",
            "313/313 [==============================] - 7s 23ms/step - loss: 0.1534 - accuracy: 0.9244 - val_loss: 0.4930 - val_accuracy: 0.8052\n",
            "Epoch 18/25\n",
            "313/313 [==============================] - 5s 16ms/step - loss: 0.1488 - accuracy: 0.9262 - val_loss: 0.5211 - val_accuracy: 0.7978\n",
            "Epoch 19/25\n",
            "313/313 [==============================] - 7s 22ms/step - loss: 0.1464 - accuracy: 0.9257 - val_loss: 0.5193 - val_accuracy: 0.8020\n",
            "Epoch 20/25\n",
            "313/313 [==============================] - 5s 15ms/step - loss: 0.1403 - accuracy: 0.9273 - val_loss: 0.5357 - val_accuracy: 0.7992\n",
            "Epoch 21/25\n",
            "313/313 [==============================] - 5s 15ms/step - loss: 0.1387 - accuracy: 0.9270 - val_loss: 0.5433 - val_accuracy: 0.8026\n",
            "Epoch 22/25\n",
            "313/313 [==============================] - 5s 15ms/step - loss: 0.1352 - accuracy: 0.9268 - val_loss: 0.5661 - val_accuracy: 0.7948\n",
            "Epoch 23/25\n",
            "313/313 [==============================] - 5s 16ms/step - loss: 0.1331 - accuracy: 0.9298 - val_loss: 0.5670 - val_accuracy: 0.7982\n",
            "Epoch 24/25\n",
            "313/313 [==============================] - 6s 19ms/step - loss: 0.1312 - accuracy: 0.9284 - val_loss: 0.5802 - val_accuracy: 0.7982\n",
            "Epoch 25/25\n",
            "313/313 [==============================] - 4s 12ms/step - loss: 0.1308 - accuracy: 0.9283 - val_loss: 0.5924 - val_accuracy: 0.7952\n"
          ]
        }
      ]
    },
    {
      "cell_type": "code",
      "source": [
        "'''\n",
        "Epoch 1/25\n",
        "313/313 [==============================] - 71s 222ms/step - loss: 0.6896 - accuracy: 0.5945 - val_loss: 0.6801 - val_accuracy: 0.7608\n",
        "Epoch 2/25\n",
        "313/313 [==============================] - 36s 115ms/step - loss: 0.6646 - accuracy: 0.7142 - val_loss: 0.6347 - val_accuracy: 0.7516\n",
        "Epoch 3/25\n",
        "313/313 [==============================] - 25s 79ms/step - loss: 0.5725 - accuracy: 0.7642 - val_loss: 0.5208 - val_accuracy: 0.7592\n",
        "Epoch 4/25\n",
        "313/313 [==============================] - 19s 60ms/step - loss: 0.4508 - accuracy: 0.8004 - val_loss: 0.4425 - val_accuracy: 0.7876\n",
        "Epoch 5/25\n",
        "313/313 [==============================] - 15s 47ms/step - loss: 0.3782 - accuracy: 0.8312 - val_loss: 0.4155 - val_accuracy: 0.7972\n",
        "Epoch 6/25\n",
        "313/313 [==============================] - 16s 50ms/step - loss: 0.3332 - accuracy: 0.8523 - val_loss: 0.3937 - val_accuracy: 0.8152\n",
        "Epoch 7/25\n",
        "313/313 [==============================] - 13s 41ms/step - loss: 0.2994 - accuracy: 0.8680 - val_loss: 0.3914 - val_accuracy: 0.8160\n",
        "Epoch 8/25\n",
        "313/313 [==============================] - 8s 27ms/step - loss: 0.2718 - accuracy: 0.8824 - val_loss: 0.3880 - val_accuracy: 0.8210\n",
        "Epoch 9/25\n",
        "313/313 [==============================] - 8s 26ms/step - loss: 0.2483 - accuracy: 0.8934 - val_loss: 0.3994 - val_accuracy: 0.8124\n",
        "Epoch 10/25\n",
        "313/313 [==============================] - 7s 22ms/step - loss: 0.2294 - accuracy: 0.9011 - val_loss: 0.3978 - val_accuracy: 0.8190\n",
        "Epoch 11/25\n",
        "313/313 [==============================] - 6s 19ms/step - loss: 0.2114 - accuracy: 0.9073 - val_loss: 0.4103 - val_accuracy: 0.8166\n",
        "Epoch 12/25\n",
        "313/313 [==============================] - 6s 20ms/step - loss: 0.1967 - accuracy: 0.9126 - val_loss: 0.4197 - val_accuracy: 0.8152\n",
        "Epoch 13/25\n",
        "313/313 [==============================] - 8s 26ms/step - loss: 0.1833 - accuracy: 0.9176 - val_loss: 0.4355 - val_accuracy: 0.8114\n",
        "Epoch 14/25\n",
        "313/313 [==============================] - 6s 18ms/step - loss: 0.1744 - accuracy: 0.9212 - val_loss: 0.4438 - val_accuracy: 0.8112\n",
        "Epoch 15/25\n",
        "313/313 [==============================] - 5s 16ms/step - loss: 0.1661 - accuracy: 0.9222 - val_loss: 0.4559 - val_accuracy: 0.8100\n",
        "Epoch 16/25\n",
        "313/313 [==============================] - 4s 13ms/step - loss: 0.1562 - accuracy: 0.9251 - val_loss: 0.4714 - val_accuracy: 0.8090\n",
        "Epoch 17/25\n",
        "313/313 [==============================] - 5s 17ms/step - loss: 0.1500 - accuracy: 0.9261 - val_loss: 0.4819 - val_accuracy: 0.8122\n",
        "Epoch 18/25\n",
        "313/313 [==============================] - 4s 14ms/step - loss: 0.1470 - accuracy: 0.9269 - val_loss: 0.4943 - val_accuracy: 0.8084\n",
        "Epoch 19/25\n",
        "313/313 [==============================] - 5s 16ms/step - loss: 0.1414 - accuracy: 0.9293 - val_loss: 0.5078 - val_accuracy: 0.8078\n",
        "Epoch 20/25\n",
        "313/313 [==============================] - 6s 19ms/step - loss: 0.1384 - accuracy: 0.9277 - val_loss: 0.5210 - val_accuracy: 0.8066\n",
        "Epoch 21/25\n",
        "313/313 [==============================] - 5s 15ms/step - loss: 0.1362 - accuracy: 0.9284 - val_loss: 0.5298 - val_accuracy: 0.8052\n",
        "Epoch 22/25\n",
        "313/313 [==============================] - 4s 13ms/step - loss: 0.1316 - accuracy: 0.9303 - val_loss: 0.5414 - val_accuracy: 0.8062\n",
        "Epoch 23/25\n",
        "313/313 [==============================] - 4s 14ms/step - loss: 0.1291 - accuracy: 0.9305 - val_loss: 0.5532 - val_accuracy: 0.8070\n",
        "Epoch 24/25\n",
        "313/313 [==============================] - 4s 11ms/step - loss: 0.1284 - accuracy: 0.9304 - val_loss: 0.5627 - val_accuracy: 0.8046\n",
        "Epoch 25/25\n",
        "313/313 [==============================] - 3s 11ms/step - loss: 0.1257 - accuracy: 0.9314 - val_loss: 0.5767 - val_accuracy: 0.8026\n",
        "''';"
      ],
      "metadata": {
        "id": "NkQL1Sl2DTVD"
      },
      "execution_count": null,
      "outputs": []
    },
    {
      "cell_type": "code",
      "source": [
        "dense_model = tf.keras.models.load_model('dense_best')\n",
        "print_metrics(f'Best dense model LR={LEARNING_RATE}',dense_model,X_train, y_train,X_validation, y_validation)"
      ],
      "metadata": {
        "colab": {
          "base_uri": "https://localhost:8080/",
          "height": 494
        },
        "id": "NT6nNVWTDqss",
        "outputId": "0b22d170-5f43-4d4f-cbdf-3ced918be628"
      },
      "execution_count": null,
      "outputs": [
        {
          "output_type": "stream",
          "name": "stdout",
          "text": [
            "Best dense model LR=0.0001\n",
            "Training Accuracy: 0.9049\n",
            "Validation Accuracy:  0.8254\n",
            "f1_score on validation 0.8656716417910447\n",
            "\n"
          ]
        },
        {
          "output_type": "display_data",
          "data": {
            "text/plain": [
              "<Figure size 1200x500 with 2 Axes>"
            ],
            "image/png": "[encoded data removed]"
          },
          "metadata": {}
        }
      ]
    },
    {
      "cell_type": "code",
      "source": [
        "'''\n",
        "text = row['Package_main'] + ' ' + row['Category'] + ' ' + row['App'] + ' ' + row['Description']\n",
        "Best dense model LR=0.0001\n",
        "Training Accuracy: 0.9057\n",
        "Validation Accuracy:  0.8242\n",
        "f1_score on validation 0.8647067877481915\n",
        "''';"
      ],
      "metadata": {
        "id": "CnKk1nzw60j7"
      },
      "execution_count": null,
      "outputs": []
    },
    {
      "cell_type": "code",
      "source": [
        "print_cm(dense_model,X_validation,y_validation)"
      ],
      "metadata": {
        "colab": {
          "base_uri": "https://localhost:8080/",
          "height": 388
        },
        "id": "_LssYOsOmMdu",
        "outputId": "7dda7151-5de5-40e5-c761-c33421e3f5b2"
      },
      "execution_count": null,
      "outputs": [
        {
          "output_type": "display_data",
          "data": {
            "text/plain": [
              "<Figure size 500x400 with 2 Axes>"
            ],
            "image/png": "[encoded data removed]"
          },
          "metadata": {}
        }
      ]
    },
    {
      "cell_type": "code",
      "source": [
        "show_roc_curve(dense_model,X_validation,y_validation,'dense model')\n",
        "# area 0.900"
      ],
      "metadata": {
        "colab": {
          "base_uri": "https://localhost:8080/",
          "height": 472
        },
        "id": "YrPTm-Re4_sb",
        "outputId": "bf8ccf4c-cf2c-4ae1-a2c1-d9593c4c1e4c"
      },
      "execution_count": null,
      "outputs": [
        {
          "output_type": "display_data",
          "data": {
            "text/plain": [
              "<Figure size 640x480 with 1 Axes>"
            ],
            "image/png": "[encoded data removed]"
          },
          "metadata": {}
        }
      ]
    },
    {
      "cell_type": "code",
      "source": [],
      "metadata": {
        "id": "4iUC0cjfBl8T"
      },
      "execution_count": null,
      "outputs": []
    },
    {
      "cell_type": "code",
      "source": [],
      "metadata": {
        "id": "buOF4zUl4zfD"
      },
      "execution_count": null,
      "outputs": []
    },
    {
      "cell_type": "code",
      "source": [
        "# Build a LSTM Model\n",
        "\n",
        "# model = keras.Sequential()\n",
        "# model.add(keras.layers.Embedding(vocab_size, EMBEDDING_SIZE))\n",
        "# model.add(keras.layers.LSTM(units=128,return_sequences = False))\n",
        "# #model.add(keras.layers.LSTM(units=64,return_sequences = True))\n",
        "# #model.add(keras.layers.LSTM(units=32,return_sequences = False))\n",
        "\n",
        "# # Add dropout to combat overfitting.\n",
        "# model.add(keras.layers.Dropout(0.2))\n",
        "# model.add(keras.layers.Dense(16, activation='relu'))\n",
        "# model.add(keras.layers.Dense(1, activation='sigmoid'))\n",
        "\n",
        "\n",
        "# model = keras.Sequential()\n",
        "# model.add(keras.layers.Embedding(vocab_size, EMBEDDING_SIZE))\n",
        "# model.add(keras.layers.Bidirectional(keras.layers.LSTM(32, return_sequences = False)))\n",
        "# #model.add(keras.layers.Bidirectional(keras.layers.LSTM(64, return_sequences = False)))\n",
        "# model.add(keras.layers.Dropout(0.1))\n",
        "# model.add(keras.layers.Dense(20, activation=\"relu\"))\n",
        "# #model.add(keras.layers.Dense(32, activation=\"relu\"))\n",
        "# model.add(keras.layers.Dropout(0.05))\n",
        "# #model.add(keras.layers.Dropout(0.1))\n",
        "# #model.add(keras.layers.Dense(16, activation='relu'))\n",
        "# model.add(keras.layers.Dense(1, activation=\"sigmoid\"))\n",
        "# model.compile(loss='binary_crossentropy', optimizer='adam', metrics=['accuracy'])\n",
        "# model.build()\n",
        "# model.summary()\n",
        "\n",
        "\n",
        "model = keras.Sequential()\n",
        "model.add(keras.layers.Embedding(vocab_size, EMBEDDING_SIZE))\n",
        "model.add(keras.layers.Bidirectional(keras.layers.LSTM(32, return_sequences = False)))\n",
        "model.add(keras.layers.Dropout(0.1))\n",
        "model.add(keras.layers.Dense(20, activation=\"relu\"))\n",
        "model.add(keras.layers.Dropout(0.05))\n",
        "model.add(keras.layers.Dense(1, activation=\"sigmoid\"))\n",
        "model.compile(loss='binary_crossentropy', optimizer='adam', metrics=['accuracy'])\n",
        "model.build()\n",
        "model.summary()\n",
        "\n",
        "\n",
        "model.compile(optimizer='adam',\n",
        "              loss='binary_crossentropy',\n",
        "              metrics=['accuracy'])"
      ],
      "metadata": {
        "colab": {
          "base_uri": "https://localhost:8080/"
        },
        "id": "hwD2J9GrZlLF",
        "outputId": "b5e7dc1d-7bed-46bb-9634-fd706cfaeb49"
      },
      "execution_count": null,
      "outputs": [
        {
          "output_type": "stream",
          "name": "stdout",
          "text": [
            "Model: \"sequential_1\"\n",
            "_________________________________________________________________\n",
            " Layer (type)                Output Shape              Param #   \n",
            "=================================================================\n",
            " embedding_1 (Embedding)     (None, None, 200)         6000200   \n",
            "                                                                 \n",
            " bidirectional (Bidirectiona  (None, 64)               59648     \n",
            " l)                                                              \n",
            "                                                                 \n",
            " dropout_1 (Dropout)         (None, 64)                0         \n",
            "                                                                 \n",
            " dense_3 (Dense)             (None, 20)                1300      \n",
            "                                                                 \n",
            " dropout_2 (Dropout)         (None, 20)                0         \n",
            "                                                                 \n",
            " dense_4 (Dense)             (None, 1)                 21        \n",
            "                                                                 \n",
            "=================================================================\n",
            "Total params: 6,061,169\n",
            "Trainable params: 6,061,169\n",
            "Non-trainable params: 0\n",
            "_________________________________________________________________\n"
          ]
        }
      ]
    },
    {
      "cell_type": "code",
      "source": [
        "'''\n",
        "Model: \"sequential_5\"\n",
        "_________________________________________________________________\n",
        " Layer (type)                Output Shape              Param #   \n",
        "=================================================================\n",
        " embedding_5 (Embedding)     (None, None, 200)         6000200   \n",
        "                                                                 \n",
        " bidirectional_1 (Bidirectio  (None, 64)               59648     \n",
        " nal)                                                            \n",
        "                                                                 \n",
        " dropout_6 (Dropout)         (None, 64)                0         \n",
        "                                                                 \n",
        " dense_14 (Dense)            (None, 20)                1300      \n",
        "                                                                 \n",
        " dropout_7 (Dropout)         (None, 20)                0         \n",
        "                                                                 \n",
        " dense_15 (Dense)            (None, 1)                 21        \n",
        "                                                                 \n",
        "=================================================================\n",
        "Total params: 6,061,169\n",
        "Trainable params: 6,061,169\n",
        "Non-trainable params: 0\n",
        "_________________________________________________________________\n",
        "''';"
      ],
      "metadata": {
        "id": "11eWUERrzvCM"
      },
      "execution_count": null,
      "outputs": []
    },
    {
      "cell_type": "code",
      "source": [
        "model.get_compile_config()"
      ],
      "metadata": {
        "colab": {
          "base_uri": "https://localhost:8080/"
        },
        "id": "SxnRWCs-la5u",
        "outputId": "4be65b15-97f5-4adf-b4b5-600aafe31b63"
      },
      "execution_count": null,
      "outputs": [
        {
          "output_type": "execute_result",
          "data": {
            "text/plain": [
              "{'optimizer': 'adam',\n",
              " 'loss': 'binary_crossentropy',\n",
              " 'metrics': ['accuracy'],\n",
              " 'loss_weights': None,\n",
              " 'weighted_metrics': None,\n",
              " 'run_eagerly': None,\n",
              " 'steps_per_execution': None,\n",
              " 'jit_compile': None}"
            ]
          },
          "metadata": {},
          "execution_count": 35
        }
      ]
    },
    {
      "cell_type": "code",
      "source": [
        "BATCH_SIZE = 64\n",
        "EPOCHS = 5 # number of epochs\n",
        "\n",
        "mcp_save = ModelCheckpoint(\n",
        "    'lstm_best', save_best_only=True, monitor='val_accuracy', mode='max',\n",
        "     #verbose=1\n",
        "    )\n",
        "\n",
        "history = model.fit(X_train, y_train,\n",
        "                    epochs=EPOCHS,\n",
        "                    verbose=True,\n",
        "                    validation_data=(X_validation, y_validation),\n",
        "                    batch_size=BATCH_SIZE,\n",
        "                    callbacks=[mcp_save],\n",
        "                    #class_weight=class_weights\n",
        "                    )"
      ],
      "metadata": {
        "colab": {
          "base_uri": "https://localhost:8080/"
        },
        "id": "tTqEsmgZeT47",
        "outputId": "9f49e047-a501-4bb0-92fe-64c77ce53eca"
      },
      "execution_count": null,
      "outputs": [
        {
          "output_type": "stream",
          "name": "stdout",
          "text": [
            "Epoch 1/5\n",
            "313/313 [==============================] - ETA: 0s - loss: 0.4834 - accuracy: 0.7615"
          ]
        },
        {
          "output_type": "stream",
          "name": "stderr",
          "text": [
            "WARNING:absl:Found untraced functions such as lstm_cell_1_layer_call_fn, lstm_cell_1_layer_call_and_return_conditional_losses, lstm_cell_2_layer_call_fn, lstm_cell_2_layer_call_and_return_conditional_losses while saving (showing 4 of 4). These functions will not be directly callable after loading.\n"
          ]
        },
        {
          "output_type": "stream",
          "name": "stdout",
          "text": [
            "\b\b\b\b\b\b\b\b\b\b\b\b\b\b\b\b\b\b\b\b\b\b\b\b\b\b\b\b\b\b\b\b\b\b\b\b\b\b\b\b\b\b\b\b\b\b\b\b\b\b\b\b\b\b\b\b\b\b\b\b\b\b\b\b\b\b\b\b\b\b\b\b\b\b\b\b\b\b\b\b\b\b\b\b\r313/313 [==============================] - 82s 242ms/step - loss: 0.4834 - accuracy: 0.7615 - val_loss: 0.4252 - val_accuracy: 0.8032\n",
            "Epoch 2/5\n",
            "313/313 [==============================] - ETA: 0s - loss: 0.3355 - accuracy: 0.8523"
          ]
        },
        {
          "output_type": "stream",
          "name": "stderr",
          "text": [
            "WARNING:absl:Found untraced functions such as lstm_cell_1_layer_call_fn, lstm_cell_1_layer_call_and_return_conditional_losses, lstm_cell_2_layer_call_fn, lstm_cell_2_layer_call_and_return_conditional_losses while saving (showing 4 of 4). These functions will not be directly callable after loading.\n"
          ]
        },
        {
          "output_type": "stream",
          "name": "stdout",
          "text": [
            "\b\b\b\b\b\b\b\b\b\b\b\b\b\b\b\b\b\b\b\b\b\b\b\b\b\b\b\b\b\b\b\b\b\b\b\b\b\b\b\b\b\b\b\b\b\b\b\b\b\b\b\b\b\b\b\b\b\b\b\b\b\b\b\b\b\b\b\b\b\b\b\b\b\b\b\b\b\b\b\b\b\b\b\b\r313/313 [==============================] - 58s 184ms/step - loss: 0.3355 - accuracy: 0.8523 - val_loss: 0.4213 - val_accuracy: 0.8056\n",
            "Epoch 3/5\n",
            "313/313 [==============================] - ETA: 0s - loss: 0.2618 - accuracy: 0.8862"
          ]
        },
        {
          "output_type": "stream",
          "name": "stderr",
          "text": [
            "WARNING:absl:Found untraced functions such as lstm_cell_1_layer_call_fn, lstm_cell_1_layer_call_and_return_conditional_losses, lstm_cell_2_layer_call_fn, lstm_cell_2_layer_call_and_return_conditional_losses while saving (showing 4 of 4). These functions will not be directly callable after loading.\n"
          ]
        },
        {
          "output_type": "stream",
          "name": "stdout",
          "text": [
            "\b\b\b\b\b\b\b\b\b\b\b\b\b\b\b\b\b\b\b\b\b\b\b\b\b\b\b\b\b\b\b\b\b\b\b\b\b\b\b\b\b\b\b\b\b\b\b\b\b\b\b\b\b\b\b\b\b\b\b\b\b\b\b\b\b\b\b\b\b\b\b\b\b\b\b\b\b\b\b\b\b\b\b\b\r313/313 [==============================] - 66s 210ms/step - loss: 0.2618 - accuracy: 0.8862 - val_loss: 0.4396 - val_accuracy: 0.8070\n",
            "Epoch 4/5\n",
            "313/313 [==============================] - 25s 81ms/step - loss: 0.2164 - accuracy: 0.9019 - val_loss: 0.5076 - val_accuracy: 0.8026\n",
            "Epoch 5/5\n",
            "313/313 [==============================] - 21s 67ms/step - loss: 0.1865 - accuracy: 0.9098 - val_loss: 0.5390 - val_accuracy: 0.7958\n"
          ]
        }
      ]
    },
    {
      "cell_type": "code",
      "source": [
        "'''\n",
        "Epoch 1/5\n",
        "313/313 [==============================] - ETA: 0s - loss: 0.4808 - accuracy: 0.7620WARNING:absl:Found untraced functions such as lstm_cell_1_layer_call_fn, lstm_cell_1_layer_call_and_return_conditional_losses, lstm_cell_2_layer_call_fn, lstm_cell_2_layer_call_and_return_conditional_losses while saving (showing 4 of 4). These functions will not be directly callable after loading.\n",
        "313/313 [==============================] - 90s 259ms/step - loss: 0.4808 - accuracy: 0.7620 - val_loss: 0.4261 - val_accuracy: 0.8048\n",
        "Epoch 2/5\n",
        "313/313 [==============================] - ETA: 0s - loss: 0.3287 - accuracy: 0.8559WARNING:absl:Found untraced functions such as lstm_cell_1_layer_call_fn, lstm_cell_1_layer_call_and_return_conditional_losses, lstm_cell_2_layer_call_fn, lstm_cell_2_layer_call_and_return_conditional_losses while saving (showing 4 of 4). These functions will not be directly callable after loading.\n",
        "313/313 [==============================] - 63s 200ms/step - loss: 0.3287 - accuracy: 0.8559 - val_loss: 0.4260 - val_accuracy: 0.8146\n",
        "Epoch 3/5\n",
        "313/313 [==============================] - 35s 112ms/step - loss: 0.2555 - accuracy: 0.8901 - val_loss: 0.4695 - val_accuracy: 0.8034\n",
        "Epoch 4/5\n",
        "313/313 [==============================] - 26s 82ms/step - loss: 0.2075 - accuracy: 0.9075 - val_loss: 0.5101 - val_accuracy: 0.7972\n",
        "Epoch 5/5\n",
        "313/313 [==============================] - 23s 73ms/step - loss: 0.1795 - accuracy: 0.9140 - val_loss: 0.6807 - val_accuracy: 0.7914\n",
        "''';"
      ],
      "metadata": {
        "id": "Z3CTSDVvvwHR"
      },
      "execution_count": null,
      "outputs": []
    },
    {
      "cell_type": "code",
      "source": [
        "lstm_model = tf.keras.models.load_model('lstm_best')\n",
        "print_metrics('Best LSTM model',lstm_model,X_train, y_train,X_validation, y_validation)"
      ],
      "metadata": {
        "colab": {
          "base_uri": "https://localhost:8080/",
          "height": 494
        },
        "id": "XJGirXRbuYZs",
        "outputId": "9334aa87-29f4-42eb-9b3f-8d2d3630f41a"
      },
      "execution_count": null,
      "outputs": [
        {
          "output_type": "stream",
          "name": "stdout",
          "text": [
            "Best LSTM model\n",
            "Training Accuracy: 0.9147\n",
            "Validation Accuracy:  0.8070\n",
            "f1_score on validation 0.8618468146027202\n",
            "\n"
          ]
        },
        {
          "output_type": "display_data",
          "data": {
            "text/plain": [
              "<Figure size 1200x500 with 2 Axes>"
            ],
            "image/png": "[encoded data removed]"
          },
          "metadata": {}
        }
      ]
    },
    {
      "cell_type": "code",
      "source": [
        "'''\n",
        "Best LSTM model\n",
        "Training Accuracy: 0.9147\n",
        "Validation Accuracy:  0.8070\n",
        "f1_score on validation 0.8618468146027202\n",
        "\n",
        "'''"
      ],
      "metadata": {
        "id": "R5TjjRV1jVyk"
      },
      "execution_count": null,
      "outputs": []
    },
    {
      "cell_type": "code",
      "source": [
        "show_roc_curve(lstm_model,X_validation,y_validation,'lstm model')\n",
        "# Area: 0.872"
      ],
      "metadata": {
        "colab": {
          "base_uri": "https://localhost:8080/",
          "height": 472
        },
        "id": "d68CQbQx_QyC",
        "outputId": "66bd3929-78d5-4e8e-c64c-05169ffb4706"
      },
      "execution_count": null,
      "outputs": [
        {
          "output_type": "display_data",
          "data": {
            "text/plain": [
              "<Figure size 640x480 with 1 Axes>"
            ],
            "image/png": "[encoded data removed]"
          },
          "metadata": {}
        }
      ]
    },
    {
      "cell_type": "code",
      "source": [
        "print_cm(lstm_model,X_validation,y_validation)"
      ],
      "metadata": {
        "id": "sf599oe2AA-w",
        "colab": {
          "base_uri": "https://localhost:8080/",
          "height": 392
        },
        "outputId": "796817f4-4546-4eb1-aaec-363a8f004107"
      },
      "execution_count": null,
      "outputs": [
        {
          "output_type": "display_data",
          "data": {
            "text/plain": [
              "<Figure size 500x400 with 2 Axes>"
            ],
            "image/png": "[encoded data removed]"
          },
          "metadata": {}
        }
      ]
    },
    {
      "cell_type": "code",
      "source": [],
      "metadata": {
        "id": "x24D1PRhzve9"
      },
      "execution_count": null,
      "outputs": []
    },
    {
      "cell_type": "code",
      "source": [
        "# Ensemble. Since one models weakness is FN and the others FP\n",
        "\n",
        "dense_ypred = dense_model.predict(X_validation, verbose=False)\n",
        "lstm_ypred  = lstm_model.predict(X_validation, verbose=False)\n",
        "ypred_proba = (dense_ypred+lstm_ypred)/2.0 # As 1st cut - Use 50-50 ensemble\n",
        "ypred = ypred_proba > 0.5\n",
        "\n",
        "print('Ensemble model: f1_score on validation',f1_score(y_validation,ypred))\n",
        "\n",
        "#Get the confusion matrix\n",
        "cf_matrix = confusion_matrix(y_validation, ypred)\n",
        "fig, ax = plt.subplots(figsize=(5,4))\n",
        "sns.heatmap(\n",
        "    cf_matrix,annot = True,\n",
        "    fmt =',d',\n",
        "    cmap='viridis',\n",
        "    ax=ax)\n",
        "plt.xlabel('Predicted label')\n",
        "plt.ylabel('True label')\n",
        "plt.show()\n",
        "\n",
        "# Ensemble model: f1_score on validation 0.871044776119403"
      ],
      "metadata": {
        "colab": {
          "base_uri": "https://localhost:8080/",
          "height": 405
        },
        "id": "eLBgqlUvwfwY",
        "outputId": "54d11745-b2e4-4c51-d0e3-148b89983b17"
      },
      "execution_count": null,
      "outputs": [
        {
          "output_type": "stream",
          "name": "stdout",
          "text": [
            "Ensemble model: f1_score on validation 0.8737950467151119\n"
          ]
        },
        {
          "output_type": "display_data",
          "data": {
            "text/plain": [
              "<Figure size 500x400 with 2 Axes>"
            ],
            "image/png": "[encoded data removed]"
          },
          "metadata": {}
        }
      ]
    },
    {
      "cell_type": "code",
      "source": [
        "title = 'ROC curve for Ensemble'\n",
        "y_pred_keras = ypred_proba\n",
        "fpr_keras, tpr_keras, thresholds_keras = roc_curve(y_validation, y_pred_keras)\n",
        "auc_keras = auc(fpr_keras, tpr_keras)\n",
        "\n",
        "plt.figure(1)\n",
        "plt.plot([0, 1], [0, 1], 'k--')\n",
        "plt.plot(fpr_keras, tpr_keras, label='Keras (area = {:.3f})'.format(auc_keras))\n",
        "plt.xlabel('False positive rate')\n",
        "plt.ylabel('True positive rate')\n",
        "plt.title(f'ROC curve ({title})')\n",
        "plt.legend(loc='best')\n",
        "plt.show()\n",
        "\n",
        "# area = 0.899"
      ],
      "metadata": {
        "colab": {
          "base_uri": "https://localhost:8080/",
          "height": 472
        },
        "id": "ZU2Buo7nxOE_",
        "outputId": "72181161-f39d-4159-92ce-1757b9415885"
      },
      "execution_count": null,
      "outputs": [
        {
          "output_type": "display_data",
          "data": {
            "text/plain": [
              "<Figure size 640x480 with 1 Axes>"
            ],
            "image/png": "[encoded data removed]"
          },
          "metadata": {}
        }
      ]
    },
    {
      "cell_type": "code",
      "source": [
        "\n",
        "dense_ypred = dense_model.predict(X_test, verbose=False)\n",
        "lstm_ypred  = lstm_model.predict(X_test, verbose=False)\n",
        "ypred_proba = (dense_ypred+lstm_ypred)/2.0 # As 1st cut - Use 50-50 ensemble\n",
        "ypred = ypred_proba > 0.5"
      ],
      "metadata": {
        "id": "pWZVpe1ix7cv"
      },
      "execution_count": null,
      "outputs": []
    },
    {
      "cell_type": "code",
      "source": [
        "ypred[:10]"
      ],
      "metadata": {
        "colab": {
          "base_uri": "https://localhost:8080/"
        },
        "id": "sVWDDWXEWITM",
        "outputId": "57e1314e-903d-4e35-d220-fa898f4ae5fb"
      },
      "execution_count": null,
      "outputs": [
        {
          "output_type": "execute_result",
          "data": {
            "text/plain": [
              "array([[ True],\n",
              "       [ True],\n",
              "       [ True],\n",
              "       [ True],\n",
              "       [False],\n",
              "       [False],\n",
              "       [False],\n",
              "       [False],\n",
              "       [ True],\n",
              "       [False]])"
            ]
          },
          "metadata": {},
          "execution_count": 43
        }
      ]
    },
    {
      "cell_type": "code",
      "source": [
        "ypred.ravel().astype(int)"
      ],
      "metadata": {
        "colab": {
          "base_uri": "https://localhost:8080/"
        },
        "id": "ls92TTekZW68",
        "outputId": "7a48031a-abdc-43a5-ae34-e07ed258d3a7"
      },
      "execution_count": null,
      "outputs": [
        {
          "output_type": "execute_result",
          "data": {
            "text/plain": [
              "array([1, 1, 1, ..., 1, 0, 1])"
            ]
          },
          "metadata": {},
          "execution_count": 44
        }
      ]
    },
    {
      "cell_type": "code",
      "source": [
        "test_df['predicted_y'] = ypred.ravel().astype(int)\n",
        "test_df['predicted_y'].value_counts()"
      ],
      "metadata": {
        "colab": {
          "base_uri": "https://localhost:8080/"
        },
        "id": "6te9kOHDZZ4L",
        "outputId": "77a048c8-20d9-4608-d93b-a605732f773b"
      },
      "execution_count": null,
      "outputs": [
        {
          "output_type": "execute_result",
          "data": {
            "text/plain": [
              "1    3386\n",
              "0    1614\n",
              "Name: predicted_y, dtype: int64"
            ]
          },
          "metadata": {},
          "execution_count": 45
        }
      ]
    },
    {
      "cell_type": "code",
      "source": [
        "test_df.head()"
      ],
      "metadata": {
        "colab": {
          "base_uri": "https://localhost:8080/",
          "height": 785
        },
        "id": "SKWqTQLmqOce",
        "outputId": "eda86fc1-66e6-48c8-e2b2-52d0b229270e"
      },
      "execution_count": null,
      "outputs": [
        {
          "output_type": "execute_result",
          "data": {
            "text/plain": [
              "                App                   Package           Category  \\\n",
              "0  ChromeMarks Lite    com.h.chromemarks.lite      Communication   \n",
              "1     Farm Tower HD  org.anddev.farmtower.eco     Brain & Puzzle   \n",
              "2        T??gtavlan       se.tstorm.tagtavlan     Travel & Local   \n",
              "3   Fair To Midland             com.novus.ftm      Entertainment   \n",
              "4       SpanishDict           com.spanishdict  Books & Reference   \n",
              "\n",
              "                                         Description  Rating  \\\n",
              "0  Access your Chrome Bookmarks from your device....     4.5   \n",
              "1  The animals of the Farm Tower need your help. ...     4.4   \n",
              "2  iPhone bestseller T??gtavlan now for Android!<...     3.0   \n",
              "3  Fair to Midland are a unique alternative prog-...     5.0   \n",
              "4  A super handy Spanish dictionary, phrasebook, ...     3.4   \n",
              "\n",
              "   Number of ratings  Price  \\\n",
              "0               1908   0.00   \n",
              "1              21076   0.00   \n",
              "2                 41   1.06   \n",
              "3                  7   0.00   \n",
              "4                312   0.00   \n",
              "\n",
              "                                        Related apps  \\\n",
              "0  {com.vbulletin.build_283, be.vbsteven.bmtodesk...   \n",
              "1  {goodteam.pair.free, com.candymobile.candyfarm...   \n",
              "2  {se.fmckl.trafcam, se.locutus.sl.realtid.pay, ...   \n",
              "3  {com.appmakr.app93924, com.klutch22.ricekiller...   \n",
              "4  {com.advanced.android.verbs, panidiom.proconju...   \n",
              "\n",
              "   Dangerous permissions count  Safe permissions count  ...  \\\n",
              "0                          5.0                       2  ...   \n",
              "1                          4.0                       2  ...   \n",
              "2                          3.0                       2  ...   \n",
              "3                          3.0                       1  ...   \n",
              "4                          1.0                       0  ...   \n",
              "\n",
              "   Your personal information : read sensitive log data (D)  \\\n",
              "0                                                  0         \n",
              "1                                                  0         \n",
              "2                                                  0         \n",
              "3                                                  0         \n",
              "4                                                  0         \n",
              "\n",
              "   Your personal information : read user defined dictionary (D)  \\\n",
              "0                                                  0              \n",
              "1                                                  0              \n",
              "2                                                  0              \n",
              "3                                                  0              \n",
              "4                                                  0              \n",
              "\n",
              "   Your personal information : retrieve system internal state (S)  \\\n",
              "0                                                  0                \n",
              "1                                                  0                \n",
              "2                                                  0                \n",
              "3                                                  0                \n",
              "4                                                  0                \n",
              "\n",
              "   Your personal information : set alarm in alarm clock (S)  \\\n",
              "0                                                  0          \n",
              "1                                                  0          \n",
              "2                                                  0          \n",
              "3                                                  0          \n",
              "4                                                  0          \n",
              "\n",
              "   Your personal information : write Browser's history and bookmarks (D)  \\\n",
              "0                                                  0                       \n",
              "1                                                  0                       \n",
              "2                                                  0                       \n",
              "3                                                  0                       \n",
              "4                                                  0                       \n",
              "\n",
              "   Your personal information : write contact data (D)  \\\n",
              "0                                                  0    \n",
              "1                                                  0    \n",
              "2                                                  0    \n",
              "3                                                  0    \n",
              "4                                                  0    \n",
              "\n",
              "   Your personal information : write to user defined dictionary (S)  \\\n",
              "0                                                  0                  \n",
              "1                                                  0                  \n",
              "2                                                  0                  \n",
              "3                                                  0                  \n",
              "4                                                  0                  \n",
              "\n",
              "   predicted_y  Package_main  \\\n",
              "0            1           com   \n",
              "1            1           org   \n",
              "2            1            se   \n",
              "3            1           com   \n",
              "4            0           com   \n",
              "\n",
              "                                                text  \n",
              "0  com communication chromemarks lite access chro...  \n",
              "1  org brain  puzzle farm tower hd animal farm to...  \n",
              "2  se travel  local tgtavlan iphone bestseller tg...  \n",
              "3  com entertainment fair midland fair midland un...  \n",
              "4  com book  reference spanishdict super handy sp...  \n",
              "\n",
              "[5 rows x 186 columns]"
            ],
            "text/html": [
              "\n",
              "  <div id=\"df-3c278f18-dc2f-4806-8ecd-7c08857c0ce2\">\n",
              "    <div class=\"colab-df-container\">\n",
              "      <div>\n",
              "<style scoped>\n",
              "    .dataframe tbody tr th:only-of-type {\n",
              "        vertical-align: middle;\n",
              "    }\n",
              "\n",
              "    .dataframe tbody tr th {\n",
              "        vertical-align: top;\n",
              "    }\n",
              "\n",
              "    .dataframe thead th {\n",
              "        text-align: right;\n",
              "    }\n",
              "</style>\n",
              "<table border=\"1\" class=\"dataframe\">\n",
              "  <thead>\n",
              "    <tr style=\"text-align: right;\">\n",
              "      <th></th>\n",
              "      <th>App</th>\n",
              "      <th>Package</th>\n",
              "      <th>Category</th>\n",
              "      <th>Description</th>\n",
              "      <th>Rating</th>\n",
              "      <th>Number of ratings</th>\n",
              "      <th>Price</th>\n",
              "      <th>Related apps</th>\n",
              "      <th>Dangerous permissions count</th>\n",
              "      <th>Safe permissions count</th>\n",
              "      <th>...</th>\n",
              "      <th>Your personal information : read sensitive log data (D)</th>\n",
              "      <th>Your personal information : read user defined dictionary (D)</th>\n",
              "      <th>Your personal information : retrieve system internal state (S)</th>\n",
              "      <th>Your personal information : set alarm in alarm clock (S)</th>\n",
              "      <th>Your personal information : write Browser's history and bookmarks (D)</th>\n",
              "      <th>Your personal information : write contact data (D)</th>\n",
              "      <th>Your personal information : write to user defined dictionary (S)</th>\n",
              "      <th>predicted_y</th>\n",
              "      <th>Package_main</th>\n",
              "      <th>text</th>\n",
              "    </tr>\n",
              "  </thead>\n",
              "  <tbody>\n",
              "    <tr>\n",
              "      <th>0</th>\n",
              "      <td>ChromeMarks Lite</td>\n",
              "      <td>com.h.chromemarks.lite</td>\n",
              "      <td>Communication</td>\n",
              "      <td>Access your Chrome Bookmarks from your device....</td>\n",
              "      <td>4.5</td>\n",
              "      <td>1908</td>\n",
              "      <td>0.00</td>\n",
              "      <td>{com.vbulletin.build_283, be.vbsteven.bmtodesk...</td>\n",
              "      <td>5.0</td>\n",
              "      <td>2</td>\n",
              "      <td>...</td>\n",
              "      <td>0</td>\n",
              "      <td>0</td>\n",
              "      <td>0</td>\n",
              "      <td>0</td>\n",
              "      <td>0</td>\n",
              "      <td>0</td>\n",
              "      <td>0</td>\n",
              "      <td>1</td>\n",
              "      <td>com</td>\n",
              "      <td>com communication chromemarks lite access chro...</td>\n",
              "    </tr>\n",
              "    <tr>\n",
              "      <th>1</th>\n",
              "      <td>Farm Tower HD</td>\n",
              "      <td>org.anddev.farmtower.eco</td>\n",
              "      <td>Brain &amp; Puzzle</td>\n",
              "      <td>The animals of the Farm Tower need your help. ...</td>\n",
              "      <td>4.4</td>\n",
              "      <td>21076</td>\n",
              "      <td>0.00</td>\n",
              "      <td>{goodteam.pair.free, com.candymobile.candyfarm...</td>\n",
              "      <td>4.0</td>\n",
              "      <td>2</td>\n",
              "      <td>...</td>\n",
              "      <td>0</td>\n",
              "      <td>0</td>\n",
              "      <td>0</td>\n",
              "      <td>0</td>\n",
              "      <td>0</td>\n",
              "      <td>0</td>\n",
              "      <td>0</td>\n",
              "      <td>1</td>\n",
              "      <td>org</td>\n",
              "      <td>org brain  puzzle farm tower hd animal farm to...</td>\n",
              "    </tr>\n",
              "    <tr>\n",
              "      <th>2</th>\n",
              "      <td>T??gtavlan</td>\n",
              "      <td>se.tstorm.tagtavlan</td>\n",
              "      <td>Travel &amp; Local</td>\n",
              "      <td>iPhone bestseller T??gtavlan now for Android!&lt;...</td>\n",
              "      <td>3.0</td>\n",
              "      <td>41</td>\n",
              "      <td>1.06</td>\n",
              "      <td>{se.fmckl.trafcam, se.locutus.sl.realtid.pay, ...</td>\n",
              "      <td>3.0</td>\n",
              "      <td>2</td>\n",
              "      <td>...</td>\n",
              "      <td>0</td>\n",
              "      <td>0</td>\n",
              "      <td>0</td>\n",
              "      <td>0</td>\n",
              "      <td>0</td>\n",
              "      <td>0</td>\n",
              "      <td>0</td>\n",
              "      <td>1</td>\n",
              "      <td>se</td>\n",
              "      <td>se travel  local tgtavlan iphone bestseller tg...</td>\n",
              "    </tr>\n",
              "    <tr>\n",
              "      <th>3</th>\n",
              "      <td>Fair To Midland</td>\n",
              "      <td>com.novus.ftm</td>\n",
              "      <td>Entertainment</td>\n",
              "      <td>Fair to Midland are a unique alternative prog-...</td>\n",
              "      <td>5.0</td>\n",
              "      <td>7</td>\n",
              "      <td>0.00</td>\n",
              "      <td>{com.appmakr.app93924, com.klutch22.ricekiller...</td>\n",
              "      <td>3.0</td>\n",
              "      <td>1</td>\n",
              "      <td>...</td>\n",
              "      <td>0</td>\n",
              "      <td>0</td>\n",
              "      <td>0</td>\n",
              "      <td>0</td>\n",
              "      <td>0</td>\n",
              "      <td>0</td>\n",
              "      <td>0</td>\n",
              "      <td>1</td>\n",
              "      <td>com</td>\n",
              "      <td>com entertainment fair midland fair midland un...</td>\n",
              "    </tr>\n",
              "    <tr>\n",
              "      <th>4</th>\n",
              "      <td>SpanishDict</td>\n",
              "      <td>com.spanishdict</td>\n",
              "      <td>Books &amp; Reference</td>\n",
              "      <td>A super handy Spanish dictionary, phrasebook, ...</td>\n",
              "      <td>3.4</td>\n",
              "      <td>312</td>\n",
              "      <td>0.00</td>\n",
              "      <td>{com.advanced.android.verbs, panidiom.proconju...</td>\n",
              "      <td>1.0</td>\n",
              "      <td>0</td>\n",
              "      <td>...</td>\n",
              "      <td>0</td>\n",
              "      <td>0</td>\n",
              "      <td>0</td>\n",
              "      <td>0</td>\n",
              "      <td>0</td>\n",
              "      <td>0</td>\n",
              "      <td>0</td>\n",
              "      <td>0</td>\n",
              "      <td>com</td>\n",
              "      <td>com book  reference spanishdict super handy sp...</td>\n",
              "    </tr>\n",
              "  </tbody>\n",
              "</table>\n",
              "<p>5 rows × 186 columns</p>\n",
              "</div>\n",
              "      <button class=\"colab-df-convert\" onclick=\"convertToInteractive('df-3c278f18-dc2f-4806-8ecd-7c08857c0ce2')\"\n",
              "              title=\"Convert this dataframe to an interactive table.\"\n",
              "              style=\"display:none;\">\n",
              "        \n",
              "  <svg xmlns=\"http://www.w3.org/2000/svg\" height=\"24px\"viewBox=\"0 0 24 24\"\n",
              "       width=\"24px\">\n",
              "    <path d=\"M0 0h24v24H0V0z\" fill=\"none\"/>\n",
              "    <path d=\"M18.56 5.44l.94 2.06.94-2.06 2.06-.94-2.06-.94-.94-2.06-.94 2.06-2.06.94zm-11 1L8.5 8.5l.94-2.06 2.06-.94-2.06-.94L8.5 2.5l-.94 2.06-2.06.94zm10 10l.94 2.06.94-2.06 2.06-.94-2.06-.94-.94-2.06-.94 2.06-2.06.94z\"/><path d=\"M17.41 7.96l-1.37-1.37c-.4-.4-.92-.59-1.43-.59-.52 0-1.04.2-1.43.59L10.3 9.45l-7.72 7.72c-.78.78-.78 2.05 0 2.83L4 21.41c.39.39.9.59 1.41.59.51 0 1.02-.2 1.41-.59l7.78-7.78 2.81-2.81c.8-.78.8-2.07 0-2.86zM5.41 20L4 18.59l7.72-7.72 1.47 1.35L5.41 20z\"/>\n",
              "  </svg>\n",
              "      </button>\n",
              "      \n",
              "  <style>\n",
              "    .colab-df-container {\n",
              "      display:flex;\n",
              "      flex-wrap:wrap;\n",
              "      gap: 12px;\n",
              "    }\n",
              "\n",
              "    .colab-df-convert {\n",
              "      background-color: #E8F0FE;\n",
              "      border: none;\n",
              "      border-radius: 50%;\n",
              "      cursor: pointer;\n",
              "      display: none;\n",
              "      fill: #1967D2;\n",
              "      height: 32px;\n",
              "      padding: 0 0 0 0;\n",
              "      width: 32px;\n",
              "    }\n",
              "\n",
              "    .colab-df-convert:hover {\n",
              "      background-color: #E2EBFA;\n",
              "      box-shadow: 0px 1px 2px rgba(60, 64, 67, 0.3), 0px 1px 3px 1px rgba(60, 64, 67, 0.15);\n",
              "      fill: #174EA6;\n",
              "    }\n",
              "\n",
              "    [theme=dark] .colab-df-convert {\n",
              "      background-color: #3B4455;\n",
              "      fill: #D2E3FC;\n",
              "    }\n",
              "\n",
              "    [theme=dark] .colab-df-convert:hover {\n",
              "      background-color: #434B5C;\n",
              "      box-shadow: 0px 1px 3px 1px rgba(0, 0, 0, 0.15);\n",
              "      filter: drop-shadow(0px 1px 2px rgba(0, 0, 0, 0.3));\n",
              "      fill: #FFFFFF;\n",
              "    }\n",
              "  </style>\n",
              "\n",
              "      <script>\n",
              "        const buttonEl =\n",
              "          document.querySelector('#df-3c278f18-dc2f-4806-8ecd-7c08857c0ce2 button.colab-df-convert');\n",
              "        buttonEl.style.display =\n",
              "          google.colab.kernel.accessAllowed ? 'block' : 'none';\n",
              "\n",
              "        async function convertToInteractive(key) {\n",
              "          const element = document.querySelector('#df-3c278f18-dc2f-4806-8ecd-7c08857c0ce2');\n",
              "          const dataTable =\n",
              "            await google.colab.kernel.invokeFunction('convertToInteractive',\n",
              "                                                     [key], {});\n",
              "          if (!dataTable) return;\n",
              "\n",
              "          const docLinkHtml = 'Like what you see? Visit the ' +\n",
              "            '<a target=\"_blank\" href=https://colab.research.google.com/notebooks/data_table.ipynb>data table notebook</a>'\n",
              "            + ' to learn more about interactive tables.';\n",
              "          element.innerHTML = '';\n",
              "          dataTable['output_type'] = 'display_data';\n",
              "          await google.colab.output.renderOutput(dataTable, element);\n",
              "          const docLink = document.createElement('div');\n",
              "          docLink.innerHTML = docLinkHtml;\n",
              "          element.appendChild(docLink);\n",
              "        }\n",
              "      </script>\n",
              "    </div>\n",
              "  </div>\n",
              "  "
            ]
          },
          "metadata": {},
          "execution_count": 46
        }
      ]
    },
    {
      "cell_type": "code",
      "source": [
        "test_df.info()"
      ],
      "metadata": {
        "colab": {
          "base_uri": "https://localhost:8080/"
        },
        "id": "NAGAHWXgrVte",
        "outputId": "0cb9a216-25ed-4422-c299-9fec0280d4c8"
      },
      "execution_count": null,
      "outputs": [
        {
          "output_type": "stream",
          "name": "stdout",
          "text": [
            "<class 'pandas.core.frame.DataFrame'>\n",
            "RangeIndex: 5000 entries, 0 to 4999\n",
            "Columns: 186 entries, App to text\n",
            "dtypes: float64(3), int64(176), object(7)\n",
            "memory usage: 7.1+ MB\n"
          ]
        }
      ]
    },
    {
      "cell_type": "code",
      "source": [
        "import pandas as pd\n",
        "ExcelTestData = pd.read_csv('/content/Android_test.csv',encoding=\"ISO-8859-1\")\n",
        "DatalistSVC = test_df['predicted_y']\n",
        "ExcelTestData[\"predicted_y2\"] = DatalistSVC\n",
        "ExcelTestData.to_csv('/content/Android_test1.csv',index=False)"
      ],
      "metadata": {
        "id": "IVworrAKsX5E"
      },
      "execution_count": null,
      "outputs": []
    },
    {
      "cell_type": "code",
      "source": [],
      "metadata": {
        "id": "P-YHaNhMao7S"
      },
      "execution_count": null,
      "outputs": []
    }
  ]
}